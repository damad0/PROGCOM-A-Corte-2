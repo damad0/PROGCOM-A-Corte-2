{
  "nbformat": 4,
  "nbformat_minor": 0,
  "metadata": {
    "colab": {
      "provenance": []
    },
    "kernelspec": {
      "name": "python3",
      "display_name": "Python 3"
    },
    "language_info": {
      "name": "python"
    }
  },
  "cells": [
    {
      "cell_type": "markdown",
      "source": [
        "Sintaxis: newList= [ expresión(elemento) for elemento n in oldList si condición]"
      ],
      "metadata": {
        "id": "PpHuPM84_XOf"
      }
    },
    {
      "cell_type": "markdown",
      "source": [
        "Ventajas:\n",
        "Más eficiente en tiempo y espacio que los bucles.\n",
        "Requiere menos líneas de código.\n",
        "Transforma una declaracíon iterativa en una fórmula."
      ],
      "metadata": {
        "id": "7mp8_KdS_7T9"
      }
    },
    {
      "cell_type": "code",
      "source": [
        "lista1=[8, 5, 4, 10, 2]\n",
        "lista2=[elementos**2 for elementos in lista1]\n",
        "print(\"Nueva lista\",lista2)"
      ],
      "metadata": {
        "colab": {
          "base_uri": "https://localhost:8080/"
        },
        "id": "_It1GLWZuvPA",
        "outputId": "0e0f1f83-088c-47ad-a4b4-69e40a429b4a"
      },
      "execution_count": null,
      "outputs": [
        {
          "output_type": "stream",
          "name": "stdout",
          "text": [
            "Nueva lista [64, 25, 16, 100, 4]\n"
          ]
        }
      ]
    },
    {
      "cell_type": "markdown",
      "source": [
        "#Ejercicio 1 samuel"
      ],
      "metadata": {
        "id": "iNCbL0JBFOqT"
      }
    },
    {
      "cell_type": "code",
      "source": [
        "x=input(\"ingrese la palabra que desee:\")\n",
        "lista = [n for n in x ]\n",
        "print(lista)"
      ],
      "metadata": {
        "colab": {
          "base_uri": "https://localhost:8080/"
        },
        "id": "MMwH5LW-FS97",
        "outputId": "c1d2fd79-e7ac-45b7-f19f-fdfe4fc101a3"
      },
      "execution_count": null,
      "outputs": [
        {
          "output_type": "stream",
          "name": "stdout",
          "text": [
            "ingrese la palabra que desee:hola\n",
            "['h', 'o', 'l', 'a']\n"
          ]
        }
      ]
    },
    {
      "cell_type": "markdown",
      "source": [
        "#ejercicio 2 mio"
      ],
      "metadata": {
        "id": "ZMUFZ3fxEHo4"
      }
    },
    {
      "cell_type": "code",
      "source": [
        "lista1=[8, 5, 4, 7, 2]\n",
        "lista2=[elementos**2 for elementos in lista1 if elementos%2==0]\n",
        "print(\"Nueva lista\",lista2)"
      ],
      "metadata": {
        "colab": {
          "base_uri": "https://localhost:8080/"
        },
        "id": "NKVI67yD1fn3",
        "outputId": "91ea7706-30fc-4330-e9d1-2ff476eb95c3"
      },
      "execution_count": null,
      "outputs": [
        {
          "output_type": "stream",
          "name": "stdout",
          "text": [
            "Nueva lista [64, 16, 4]\n"
          ]
        }
      ]
    },
    {
      "cell_type": "markdown",
      "source": [
        "#Ejercicio 3 Ivan "
      ],
      "metadata": {
        "id": "Ga9kKABxERGg"
      }
    },
    {
      "cell_type": "code",
      "source": [
        "import random \n",
        "capitan= [random.randrange(1,30) for i in range(9)] # Rango donde se va generar la lista\n",
        "print(\"imprimir números aleatorios de la lista:\"), str(capitan)"
      ],
      "metadata": {
        "colab": {
          "base_uri": "https://localhost:8080/"
        },
        "id": "3Rw7v2nP2RwX",
        "outputId": "4ea37432-f1fb-4e3a-f84e-a3d0aab76e3d"
      },
      "execution_count": null,
      "outputs": [
        {
          "output_type": "stream",
          "name": "stdout",
          "text": [
            "imprimir números aleatorios de la lista:\n"
          ]
        },
        {
          "output_type": "execute_result",
          "data": {
            "text/plain": [
              "(None, '[16, 13, 19, 29, 20, 20, 16, 14, 6]')"
            ]
          },
          "metadata": {},
          "execution_count": 1
        }
      ]
    },
    {
      "cell_type": "markdown",
      "source": [
        "#ejercicio 4 juan pablo"
      ],
      "metadata": {
        "id": "2uucvQQJFGwO"
      }
    },
    {
      "cell_type": "code",
      "source": [
        "precios=[]\n",
        "print(\"ingrese los números de los que quieres hacer un descuento\")\n",
        "det= True\n",
        "while det:\n",
        "  num =int(input(\"si no desea agregar mas números digite 0\"))\n",
        "  precios.append(num)\n",
        "  det= False if num == 0 else num>0\n",
        "des=float(input(print(\"ingrese el descuento sin el %\")))\n",
        "presdes=[precio*des/100 for precio in precios]\n",
        "presdes.pop(-1)\n",
        "print(\"Este es el valor que le debes restar a cada número\",presdes)"
      ],
      "metadata": {
        "colab": {
          "base_uri": "https://localhost:8080/"
        },
        "id": "ZkETOy6mCI_l",
        "outputId": "d4e94e98-7e74-4b93-8135-1a91e842487c"
      },
      "execution_count": null,
      "outputs": [
        {
          "output_type": "stream",
          "name": "stdout",
          "text": [
            "ingrese los números de los que quieres hacer un descuento\n",
            "si no desea agregar mas números digite 0100\n",
            "si no desea agregar mas números digite 00\n",
            "ingrese el descuento sin el %\n",
            "None20\n",
            "Este es el valor que le debes restar a cada número [20.0]\n"
          ]
        }
      ]
    },
    {
      "cell_type": "markdown",
      "source": [],
      "metadata": {
        "id": "41lpPFseHw3I"
      }
    },
    {
      "cell_type": "markdown",
      "source": [
        "#Ejercicio 5 cristian"
      ],
      "metadata": {
        "id": "WT1z1VGLH2I5"
      }
    },
    {
      "cell_type": "code",
      "source": [
        "num = []\n",
        "for i in range(6):\n",
        "  num.append(int(input(\"introduce el numero ganador\")))\n",
        "  num.sort()\n",
        "  print(\"los números ganadores del baloto son:\"+ str(num))"
      ],
      "metadata": {
        "colab": {
          "base_uri": "https://localhost:8080/"
        },
        "id": "UEgttuA2H5K_",
        "outputId": "a574f4b4-caf0-42d2-98e4-50f49cfebbd2"
      },
      "execution_count": null,
      "outputs": [
        {
          "output_type": "stream",
          "name": "stdout",
          "text": [
            "introduce el numero ganador2\n",
            "los números ganadores del baloto son:[2]\n",
            "introduce el numero ganador3\n",
            "los números ganadores del baloto son:[2, 3]\n",
            "introduce el numero ganador4\n",
            "los números ganadores del baloto son:[2, 3, 4]\n",
            "introduce el numero ganador3\n",
            "los números ganadores del baloto son:[2, 3, 3, 4]\n",
            "introduce el numero ganador2\n",
            "los números ganadores del baloto son:[2, 2, 3, 3, 4]\n",
            "introduce el numero ganador23\n",
            "los números ganadores del baloto son:[2, 2, 3, 3, 4, 23]\n"
          ]
        }
      ]
    },
    {
      "cell_type": "code",
      "source": [],
      "metadata": {
        "id": "1Jru7RgOITRW"
      },
      "execution_count": null,
      "outputs": []
    },
    {
      "cell_type": "markdown",
      "source": [
        "# Ejercicio 6 Julio Guzman"
      ],
      "metadata": {
        "id": "NG5AcRKcuLbg"
      }
    },
    {
      "cell_type": "code",
      "source": [
        "##normal\n",
        "n=int(input(\"ingresa el número de palabras que vas a ingresar\"))\n",
        "lista=[]\n",
        "lista1=[]\n",
        "for i in range(n):\n",
        "  l=input(\"ingresa la palabra\")\n",
        "  if l.isupper():lista.append(l)\n",
        "  if l.islower():lista1.append(l)\n",
        "print(lista)\n",
        "print(lista1)"
      ],
      "metadata": {
        "colab": {
          "base_uri": "https://localhost:8080/"
        },
        "id": "2ZOD1LjwuNVx",
        "outputId": "8fcfbca2-933a-4492-b72a-c7454d7f1671"
      },
      "execution_count": null,
      "outputs": [
        {
          "output_type": "stream",
          "name": "stdout",
          "text": [
            "ingresa el número de palabras que vas a ingresar2\n",
            "ingresa la palabrahola\n",
            "ingresa la palabraHOLA\n",
            "['HOLA']\n",
            "['hola']\n"
          ]
        }
      ]
    },
    {
      "cell_type": "code",
      "source": [
        "##compresión\n",
        "n=int(input(\"ingrsa el numero de palabras que vas a ingresar\"))\n",
        "lista3=[]\n",
        "for i in range(n):\n",
        "  l=input(\"ingresa la palabra\")\n",
        "  lista3.append(l)\n",
        "\n",
        "lista_comprimida_M=[elemento for elemento in lista3 if elemento.isupper()]\n",
        "lista_comprimida_m=[elemento for elemento in lista3 if elemento.islower()]\n",
        "\n",
        "print(\"las palabras escritas es mayuscula son\")\n",
        "print(lista_comprimida_M)\n",
        "print(\"las palabras escritas es minuscula son\")\n",
        "print(lista_comprimida_m)"
      ],
      "metadata": {
        "colab": {
          "base_uri": "https://localhost:8080/"
        },
        "id": "qLP97Tp21iGB",
        "outputId": "32eeecfa-fd10-4a46-b75d-c694efc96608"
      },
      "execution_count": null,
      "outputs": [
        {
          "output_type": "stream",
          "name": "stdout",
          "text": [
            "ingrsa el numero de palabras que vas a ingresar2\n",
            "ingresa la palabraFFFF\n",
            "ingresa la palabrafffff\n",
            "las palabras escritas es mayuscula son\n",
            "['FFFF']\n",
            "las palabras escritas es minuscula son\n",
            "['fffff']\n"
          ]
        }
      ]
    },
    {
      "cell_type": "code",
      "source": [
        "##lambda\n",
        "lista_comprimida_M=list(map(lambda elemento:True if elemento.isupper()else False,lista3))\n",
        "lista_comprimida_m=list(map(lambda elemento:True if elemento.islower()else False,lista3))\n",
        "\n",
        "print(\"las palabras escritas es mayúscula son\")\n",
        "print(lista_comprimida_M)\n",
        "print(\"las palabras escritas es minúscula son\")\n",
        "print(lista_comprimida_m)"
      ],
      "metadata": {
        "colab": {
          "base_uri": "https://localhost:8080/"
        },
        "id": "3PEx2Dut0Pkm",
        "outputId": "3bc5223d-66df-4b76-b48e-1055fdea8853"
      },
      "execution_count": null,
      "outputs": [
        {
          "output_type": "stream",
          "name": "stdout",
          "text": [
            "las palabras escritas es mayúscula son\n",
            "[True, False]\n",
            "las palabras escritas es minúscula son\n",
            "[False, True]\n"
          ]
        }
      ]
    },
    {
      "cell_type": "markdown",
      "source": [
        "#Ejercicio 7 leslie Karina"
      ],
      "metadata": {
        "id": "fY4j-HkF7jiu"
      }
    },
    {
      "cell_type": "code",
      "source": [
        "def pali(word):\n",
        "  rev=word[::-1]\n",
        "  return word==rev\n",
        "word=(input(\"Digita una palabra\")).lower()\n",
        "final=pali(word)\n",
        "if final == True:\n",
        "  print(f\"{word} es una palabra palíndromo\")\n",
        "else:\n",
        "  print(f\"{word} no es una palabra palíndromo\")"
      ],
      "metadata": {
        "colab": {
          "base_uri": "https://localhost:8080/"
        },
        "id": "SoEMdww87rOV",
        "outputId": "ac348cb4-0861-4ff9-b406-af64bcbb0499"
      },
      "execution_count": null,
      "outputs": [
        {
          "output_type": "stream",
          "name": "stdout",
          "text": [
            "Digita una palabraana\n",
            "ana es una palabra palíndromo\n"
          ]
        }
      ]
    },
    {
      "cell_type": "code",
      "source": [
        "##lambda\n",
        "c=int(input(\"Digita la cantidad de elemtos que deseas ingresar\"))\n",
        "lista1=[]\n",
        "for i in range(c):\n",
        "  word=input(\"Escribe aquí:\").lower()\n",
        "  lista1.append(word)\n",
        "print(lista1)\n",
        "lista2=list((map(lambda x:True if x==x[::-1]else False,lista1)))\n",
        "lista2"
      ],
      "metadata": {
        "colab": {
          "base_uri": "https://localhost:8080/"
        },
        "id": "H6adik5g8s6O",
        "outputId": "f797618c-3c63-45b8-8af4-9e2cce9d3770"
      },
      "execution_count": null,
      "outputs": [
        {
          "output_type": "stream",
          "name": "stdout",
          "text": [
            "Digita la cantidad de elemtos que deseas ingresar2\n",
            "Escribe aquí:ana\n",
            "Escribe aquí:julio\n",
            "['ana', 'julio']\n"
          ]
        },
        {
          "output_type": "execute_result",
          "data": {
            "text/plain": [
              "[True, False]"
            ]
          },
          "metadata": {},
          "execution_count": 16
        }
      ]
    },
    {
      "cell_type": "markdown",
      "source": [
        "#ejercicio 8 manuel "
      ],
      "metadata": {
        "id": "qopQdrEO-MT1"
      }
    },
    {
      "cell_type": "code",
      "source": [
        "##normal\n",
        "import random\n",
        "stock=[\"martillo\",\"alicate\",\"clavo\",\"perno\"]\n",
        "cality=[\"GOOD\",\"FAIL\"]\n",
        "a=[]\n",
        "for i in stock:\n",
        "  a.append((i,random.choice(cality)))\n",
        "listg=[]\n",
        "listf=[]\n",
        "for x in a:\n",
        "  if \"GOOD\" in x:\n",
        "    listg.append(x)\n",
        "\n",
        "  elif \"FAIL\" in x:\n",
        "    listf.append(x)\n",
        "  print(listf)\n",
        "  print(listg)"
      ],
      "metadata": {
        "colab": {
          "base_uri": "https://localhost:8080/"
        },
        "id": "S7U__TAU-SxT",
        "outputId": "877ea90d-d5c4-4a3c-b20d-99234df830db"
      },
      "execution_count": null,
      "outputs": [
        {
          "output_type": "stream",
          "name": "stdout",
          "text": [
            "[]\n",
            "[('martillo', 'GOOD')]\n",
            "[('alicate', 'FAIL')]\n",
            "[('martillo', 'GOOD')]\n",
            "[('alicate', 'FAIL')]\n",
            "[('martillo', 'GOOD'), ('clavo', 'GOOD')]\n",
            "[('alicate', 'FAIL')]\n",
            "[('martillo', 'GOOD'), ('clavo', 'GOOD'), ('perno', 'GOOD')]\n"
          ]
        }
      ]
    },
    {
      "cell_type": "code",
      "source": [
        "##compresión\n",
        "import random\n",
        "stock=[\"martillo\",\"alicate\",\"clavo\",\"perno\"]\n",
        "cality=[\"GOOD\",\"FAIL\"]\n",
        "a=[]\n",
        "for i in stock:\n",
        "  a.append((i,random.choice(cality)))\n",
        "listg=[]\n",
        "listf=[]\n",
        "listg=[x for x in a if \"GOOD\" in x]\n",
        "listf=[x for x in a if \"FAIL\" in x]\n",
        "print(listf,listg)"
      ],
      "metadata": {
        "colab": {
          "base_uri": "https://localhost:8080/"
        },
        "id": "EH-VfCPLEUzE",
        "outputId": "d64de246-4a1a-4d29-bfff-53acd740b6b2"
      },
      "execution_count": null,
      "outputs": [
        {
          "output_type": "stream",
          "name": "stdout",
          "text": [
            "[('martillo', 'FAIL'), ('alicate', 'FAIL'), ('perno', 'FAIL')] [('clavo', 'GOOD')]\n"
          ]
        }
      ]
    },
    {
      "cell_type": "code",
      "source": [
        "##lambda\n",
        "import random\n",
        "stock=[\"martillo\",\"alicate\",\"clavo\",\"perno\"]\n",
        "cality=[\"GOOD\",\"FAIL\"]\n",
        "a=[]\n",
        "for i in stock:\n",
        "  a.append((i,random.choise(cality)))\n",
        "listg=[]\n",
        "listf=[]\n",
        "listg=list(filter(lambda a: == \"GOOD\", a))\n",
        "print(listg)"
      ],
      "metadata": {
        "colab": {
          "base_uri": "https://localhost:8080/",
          "height": 130
        },
        "id": "KfKf6X99FNUd",
        "outputId": "92ef25de-b6f4-4a13-81c3-13454b63d5b7"
      },
      "execution_count": null,
      "outputs": [
        {
          "output_type": "error",
          "ename": "SyntaxError",
          "evalue": "ignored",
          "traceback": [
            "\u001b[0;36m  File \u001b[0;32m\"<ipython-input-22-40e206015d51>\"\u001b[0;36m, line \u001b[0;32m10\u001b[0m\n\u001b[0;31m    listg=list(filter(lambda a: == \"GOOD\", a))\u001b[0m\n\u001b[0m                                 ^\u001b[0m\n\u001b[0;31mSyntaxError\u001b[0m\u001b[0;31m:\u001b[0m invalid syntax\n"
          ]
        }
      ]
    },
    {
      "cell_type": "markdown",
      "source": [
        "#Ejercicio 9 paula "
      ],
      "metadata": {
        "id": "q273FPGIHp-w"
      }
    },
    {
      "cell_type": "code",
      "source": [
        "def capitalizar(oracion):\n",
        "  lista1=[]\n",
        "  for l in n1:\n",
        "    lista1.append(l)\n",
        "    lista1[0]=n1[0].upper()\n",
        "  print(\"\".join(lista1))"
      ],
      "metadata": {
        "id": "Eap94-PjHh6x"
      },
      "execution_count": null,
      "outputs": []
    },
    {
      "cell_type": "code",
      "source": [
        "n1=input(\"ingresa una oración\")\n",
        "oracion=capitalizar(n1)\n",
        "oracion"
      ],
      "metadata": {
        "colab": {
          "base_uri": "https://localhost:8080/"
        },
        "id": "kzR44XD3HogI",
        "outputId": "0d753c17-8251-4dc0-ba18-8a16a9db7864"
      },
      "execution_count": null,
      "outputs": [
        {
          "output_type": "stream",
          "name": "stdout",
          "text": [
            "ingresa una oraciónhola carambola\n",
            "Hola carambola\n"
          ]
        }
      ]
    },
    {
      "cell_type": "code",
      "source": [
        "n3=lambda x:x[0].upper()+x[1::]\n",
        "n=n3(n)\n",
        "n"
      ],
      "metadata": {
        "colab": {
          "base_uri": "https://localhost:8080/",
          "height": 35
        },
        "id": "5RtYsQDVIo6V",
        "outputId": "e1ebae5d-1a89-41fd-fb82-87d1087f9881"
      },
      "execution_count": 42,
      "outputs": [
        {
          "output_type": "execute_result",
          "data": {
            "text/plain": [
              "'Hoaaaaaa'"
            ],
            "application/vnd.google.colaboratory.intrinsic+json": {
              "type": "string"
            }
          },
          "metadata": {},
          "execution_count": 42
        }
      ]
    },
    {
      "cell_type": "markdown",
      "source": [
        "#Ejercicio 10 francisco"
      ],
      "metadata": {
        "id": "paMzPqCqLSk1"
      }
    },
    {
      "cell_type": "code",
      "source": [
        "#normal\n",
        "palabras = [\"a\", \"e\",\"i\",\"o\",\"u\"]\n",
        "numeros =[1,2,3,4,5,6,7,8,9]\n",
        "generador=[]\n",
        "for i in range(0,5):\n",
        " generador.append(random.choice(palabras))\n",
        " generador.append(random.choice(numeros))\n",
        "print(generador)\n"
      ],
      "metadata": {
        "colab": {
          "base_uri": "https://localhost:8080/"
        },
        "id": "QPrBCWUgNIWa",
        "outputId": "3d78d3ea-a757-4744-85c8-508909fa3023"
      },
      "execution_count": 36,
      "outputs": [
        {
          "output_type": "stream",
          "name": "stdout",
          "text": [
            "['a', 3, 'o', 4, 'a', 7, 'a', 8, 'o', 7]\n"
          ]
        }
      ]
    },
    {
      "cell_type": "code",
      "source": [
        "#compresión\n",
        "import random\n",
        "x=input(\"Ingrese la palabra o relación que desea la contraseña\")\n",
        "palabra = [letra for letra in x]\n",
        "numeros =[num for num in range (0,10)]\n",
        "generador=[random.choice(numeros) or random.choice(palabra) for num in range(0,11)]\n",
        "print(generador)"
      ],
      "metadata": {
        "colab": {
          "base_uri": "https://localhost:8080/"
        },
        "id": "u77Lv6IILWEj",
        "outputId": "372c88e2-6d67-49ba-bf38-e50bf71f4999"
      },
      "execution_count": 34,
      "outputs": [
        {
          "output_type": "stream",
          "name": "stdout",
          "text": [
            "Ingrese la palabra o relación que desea la contraseñahoa\n",
            "[3, 'o', 7, 4, 7, 3, 'o', 9, 6, 5, 3]\n"
          ]
        }
      ]
    },
    {
      "cell_type": "code",
      "source": [
        "#lambda\n",
        "import random\n",
        "x=input(\"Ingrese la palabra o relación que desea la contraseña\")\n",
        "palabras = [letra for letra in x]\n",
        "numeros =[num for num in range (0,10)]\n",
        "generador=[random.choice(list(map(lambda x:x,numeros))) or random.choice(sorted(palabras, key=lambda letra:letra in palabras)) for num in range(0,11)]\n",
        "print(generador)"
      ],
      "metadata": {
        "id": "5pLmVxBGLWyd",
        "colab": {
          "base_uri": "https://localhost:8080/"
        },
        "outputId": "8c452c65-cc5e-4984-fa90-797d7dc64b84"
      },
      "execution_count": 35,
      "outputs": [
        {
          "output_type": "stream",
          "name": "stdout",
          "text": [
            "Ingrese la palabra o relación que desea la contraseñahola\n",
            "[8, 2, 3, 1, 1, 5, 7, 7, 7, 7, 1]\n"
          ]
        }
      ]
    },
    {
      "cell_type": "code",
      "source": [],
      "metadata": {
        "id": "jNNYfAGFM6Mx"
      },
      "execution_count": null,
      "outputs": []
    },
    {
      "cell_type": "markdown",
      "source": [
        "#Ejercicio 11 Ana"
      ],
      "metadata": {
        "id": "XmWbFcJGNRvw"
      }
    },
    {
      "cell_type": "code",
      "source": [
        "#normal\n",
        "print(\"¡Hola! Soy Lucía del sistema de asignación de turnos para pasaporte de la Gobernación \\n Solo las personas mayores de edad tendrán su cita mañana en el rango de 6am a 12 pm \\n y los menores de edad la tendrán en el rango de 2pm a 6pm \\n \" )\n",
        "lista1=[('Pedro',33),('Ana',3),('Juan',13),('Carla',45)]\n",
        "lista2=[]\n",
        "lista3=[]\n",
        "for elemento in lista1:\n",
        "  if elemento[1]>=18:\n",
        "    lista2.append(elemento)\n",
        "print(f'{lista2} tendrán la cita a las 8am y 10am respectivamente')\n",
        "\n",
        "for elemento in lista1:\n",
        "  if elemento[1]<18:\n",
        "    lista3.append(elemento)\n",
        "print(f'{lista3} tendrán la cita a las 2pm y 4pm respectivamente')"
      ],
      "metadata": {
        "colab": {
          "base_uri": "https://localhost:8080/"
        },
        "id": "vKYbzP3TNT-n",
        "outputId": "7d7192b4-cf59-4d65-f22c-c0cd2e55f323"
      },
      "execution_count": 39,
      "outputs": [
        {
          "output_type": "stream",
          "name": "stdout",
          "text": [
            "¡Hola! Soy Lucía del sistema de asignación de turnos para pasaporte de la Gobernación \n",
            " Solo las personas mayores de edad tendrán su cita mañana en el rango de 6am a 12 pm \n",
            " y los menores de edad la tendrán en el rango de 2pm a 6pm \n",
            " \n",
            "[('Pedro', 33), ('Carla', 45)] tendrán la cita a las 8am y 10am respectivamente\n",
            "[('Ana', 3), ('Juan', 13)] tendrán la cita a las 2pm y 4pm respectivamente\n"
          ]
        }
      ]
    },
    {
      "cell_type": "code",
      "source": [
        "#compresión\n",
        "print(\"¡Hola! Soy Lucía del sistema de asignación de turnos para pasaporte de la Gobernación \\n Solo las personas mayores de edad tendrán su cita mañana en el rango de 6am a 12 pm \\n y los menores de edad la tendrán en el rango de 2pm a 6pm \\n \" )\n",
        "personas=[('Pedro',33),('Ana',3),('Juan',13),('Carla',45)]\n",
        "\n",
        "\n",
        "personas_mayores=[per for per in personas if per[1]>=18]\n",
        "print(f'{personas_mayores} tendrán la cita a las 8am y 10am respectivamente')\n",
        "\n",
        "personas_menores=[per for per in personas if per[1]<18]\n",
        "print(f'{personas_menores} tendrán la cita a las 2pm y 4pm respectivamente')"
      ],
      "metadata": {
        "colab": {
          "base_uri": "https://localhost:8080/"
        },
        "id": "Rrk5OqnfPUPR",
        "outputId": "391bca38-e5a7-4ecf-a755-563c152cbbc8"
      },
      "execution_count": 40,
      "outputs": [
        {
          "output_type": "stream",
          "name": "stdout",
          "text": [
            "¡Hola! Soy Lucía del sistema de asignación de turnos para pasaporte de la Gobernación \n",
            " Solo las personas mayores de edad tendrán su cita mañana en el rango de 6am a 12 pm \n",
            " y los menores de edad la tendrán en el rango de 2pm a 6pm \n",
            " \n",
            "[('Pedro', 33), ('Carla', 45)] tendrán la cita a las 8am y 10am respectivamente\n",
            "[('Ana', 3), ('Juan', 13)] tendrán la cita a las 2pm y 4pm respectivamente\n"
          ]
        }
      ]
    },
    {
      "cell_type": "code",
      "source": [
        "#lambda\n",
        "print(\"¡Hola! Soy Lucía del sistema de asignación de turnos para pasaporte de la Gobernación \\n Solo las personas mayores de edad tendrán su cita mañana en el rango de 6am a 12 pm \\n y los menores de edad la tendrán en el rango de 2pm a 6pm \\n \" )\n",
        "personas=[('Pedro',33),('Ana',3),('Juan',13),('Carla',45)]\n",
        "perma=list(filter(lambda may: may[1]>=18,personas ))\n",
        "perma\n",
        "print(f'{perma} tendrán la cita a las 8am y 10am respectivamente')\n",
        "\n",
        "perme=list(filter(lambda men: men[1]<18,personas ))\n",
        "perme\n",
        "print(f'{perme} tendrán la cita a las 2pm y 4pm respectivamente')"
      ],
      "metadata": {
        "colab": {
          "base_uri": "https://localhost:8080/"
        },
        "id": "TGYiv0LLPXXA",
        "outputId": "d80f9ee9-fb55-4ff0-ba92-d14309b2719c"
      },
      "execution_count": 41,
      "outputs": [
        {
          "output_type": "stream",
          "name": "stdout",
          "text": [
            "¡Hola! Soy Lucía del sistema de asignación de turnos para pasaporte de la Gobernación \n",
            " Solo las personas mayores de edad tendrán su cita mañana en el rango de 6am a 12 pm \n",
            " y los menores de edad la tendrán en el rango de 2pm a 6pm \n",
            " \n",
            "[('Pedro', 33), ('Carla', 45)] tendrán la cita a las 8am y 10am respectivamente\n",
            "[('Ana', 3), ('Juan', 13)] tendrán la cita a las 2pm y 4pm respectivamente\n"
          ]
        }
      ]
    },
    {
      "cell_type": "code",
      "source": [],
      "metadata": {
        "id": "CUGZ62u_PaGh"
      },
      "execution_count": null,
      "outputs": []
    }
  ]
}