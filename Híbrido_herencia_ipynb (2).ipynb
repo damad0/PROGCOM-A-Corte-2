{
  "nbformat": 4,
  "nbformat_minor": 0,
  "metadata": {
    "colab": {
      "provenance": [],
      "collapsed_sections": []
    },
    "kernelspec": {
      "name": "python3",
      "display_name": "Python 3"
    },
    "language_info": {
      "name": "python"
    }
  },
  "cells": [
    {
      "cell_type": "code",
      "execution_count": null,
      "metadata": {
        "id": "Ur2fvhGFJ2ZW"
      },
      "outputs": [],
      "source": [
        "class Sayayin():\n",
        "  def __init__(self,nombre,cabello,ojos,fuerza,estatura,cola_de_mono):\n",
        "    self._cabello=\"Negro\"\n",
        "    self._ojos=\"Negros\"\n",
        "    self.__fuerza=fuerza\n",
        "    self._estatura=estatura\n",
        "    self._cola_de_mono=True\n",
        "    self._nombre=nombre\n",
        "\n",
        "  def color_cabello(self,fuerza_base):\n",
        "    fuerza_t=90000\n",
        "    if fuerza_base*10>=fuerza_t:\n",
        "      print(\"Alcanza nivel sayayin fase 1\")\n",
        "      self.cabello=\"rubio\"\n",
        "    elif fuerza_base*20>=fuerza_t*20:\n",
        "       print(\"Alcanza nivel sayayin fase 2\")\n",
        "       self.cabello=\"rubio\"\n",
        "    elif fuerza_base*1000>=fuerza_t*1000:\n",
        "       print(\"Alcanza nivel sayayin fase 4\")\n",
        "       self.cabello=\"negro\"\n",
        "    if self.cola==False:\n",
        "        self.cola=True\n",
        "    else:\n",
        "      print(\"Alcanza nivel sayayin ultrainstinto\")\n",
        "      self.cabello=\"Cenizo\"\n",
        "\n",
        "  def luna(self,luna): \n",
        "    if self.cola and luna==\"luna llena\":\n",
        "      print(self.nombre,\"se convierte en ozaru\")  \n",
        "      self.fuerza=self.fuerza*50\n",
        "    else:\n",
        "      print(self.nombre,\"No se trasnforma en nada\")   \n",
        "\n",
        "  \n",
        "\n",
        "  def trabajo(self,trabajo):\n",
        "    if trabajo==1:\n",
        "      print(f\"{self.nombre} es de tipo guerrero\")   \n",
        "    elif trabajo==2:\n",
        "      print(f\"{self.nombre} es de tipo liendra de freezer\")\n",
        "    elif trabajo==3:\n",
        "      print(f\"{self.nombre} es de tipo mercenarios\")\n",
        "    else:\n",
        "      print(f\"{self.nombre} es de la realeza \")  \n",
        "\n"
      ]
    },
    {
      "cell_type": "code",
      "source": [
        "class Humano():\n",
        "  def __init__(self,nombre,cabello,ojos,fuerza,estatura):\n",
        "    self.cabello=cabello\n",
        "    self.ojos=ojos\n",
        "    self.fuerza=fuerza\n",
        "    self.estatura=estatura\n",
        "  def coloc_cabello(self,tinte):\n",
        "    if tinte==0:\n",
        "      print(self.nombre,\"Se ha descolorado el cabello\")\n",
        "      self.cabello=\"Amarillo\"\n",
        "    elif tinte==2:\n",
        "      print(self.nombre,\"ha colorado su cabello de lila\")\n",
        "      self.cabello=\"Lila\"    \n",
        "    elif tinte==3:\n",
        "      print(self.nombre,\"ha colorado su cabello nuez\")\n",
        "      self.cabello=\"Nuez\"  \n",
        "    else:\n",
        "      print(self.nombre,\"ha colorado su cabello canoso\")\n",
        "      self.cabello=\"Canoso\" \n",
        "\n",
        "  def trabajo(self,trabajo):   \n",
        "    if trabajo==0:\n",
        "      print(f\"{self.nombre} trabaja como callcenter\")\n",
        "    elif trabajo==2:\n",
        "      print(f\"{self.nombre} trabaja como vendedor de bonice\")    \n",
        "    elif trabajo==3:\n",
        "      print(f\"{self.nombre} trabaja como tombo\") \n",
        "    elif trabajo==4:\n",
        "      print(f\"{self.nombre}trabaja programador python\")   \n",
        "    else:\n",
        "      print(f\"{self.nombre} es nini\")\n"
      ],
      "metadata": {
        "id": "3ezkjhX0O0zG"
      },
      "execution_count": null,
      "outputs": []
    },
    {
      "cell_type": "code",
      "source": [
        "class Hibrido(Sayayin,Humano):\n",
        "  def __init__(self,trabajo):\n",
        "    #Sayayin.__init__(nombre,cabello,ojos,fuerza,estatura,cola_de_mono)\n",
        "    super()\n",
        "    self.trabajo=trabajo"
      ],
      "metadata": {
        "id": "WruM-W3QSc2t"
      },
      "execution_count": null,
      "outputs": []
    },
    {
      "cell_type": "code",
      "source": [
        "goku=Sayayin(\"Kakaoroto\", \"arcoíris\", \"verde-dorado\",100,50,True)\n",
        "goku.__dict__"
      ],
      "metadata": {
        "colab": {
          "base_uri": "https://localhost:8080/"
        },
        "id": "Dgr_a21iSnQ6",
        "outputId": "97902c09-a6f1-4c04-c8fd-00171eadbfda"
      },
      "execution_count": null,
      "outputs": [
        {
          "output_type": "execute_result",
          "data": {
            "text/plain": [
              "{'_cabello': 'Negro',\n",
              " '_ojos': 'Negros',\n",
              " '_Sayayin__fuerza': 100,\n",
              " '_estatura': 50,\n",
              " '_cola_de_mono': True,\n",
              " '_nombre': 'Kakaoroto'}"
            ]
          },
          "metadata": {},
          "execution_count": 57
        }
      ]
    },
    {
      "cell_type": "code",
      "source": [
        "goku.__fuerza=50000\n",
        "goku.__dict__"
      ],
      "metadata": {
        "colab": {
          "base_uri": "https://localhost:8080/"
        },
        "id": "k0mHHfT3UBnQ",
        "outputId": "ca4bb422-19c3-4a37-e850-f02f9cdcd829"
      },
      "execution_count": null,
      "outputs": [
        {
          "output_type": "execute_result",
          "data": {
            "text/plain": [
              "{'_cabello': 'Negro',\n",
              " '_ojos': 'Negros',\n",
              " '_Sayayin__fuerza': 100,\n",
              " '_estatura': 50,\n",
              " '_cola_de_mono': True,\n",
              " '_nombre': 'Kakaoroto',\n",
              " '__fuerza': 50000}"
            ]
          },
          "metadata": {},
          "execution_count": 58
        }
      ]
    },
    {
      "cell_type": "code",
      "source": [
        "goku.color_cabello(10000)"
      ],
      "metadata": {
        "colab": {
          "base_uri": "https://localhost:8080/",
          "height": 317
        },
        "id": "AkTBFZ04U1FJ",
        "outputId": "4056e3dc-64c0-4c60-c147-e45630ad8bca"
      },
      "execution_count": null,
      "outputs": [
        {
          "output_type": "stream",
          "name": "stdout",
          "text": [
            "Alcanza nivel sayayin fase 1\n"
          ]
        },
        {
          "output_type": "error",
          "ename": "AttributeError",
          "evalue": "ignored",
          "traceback": [
            "\u001b[0;31m---------------------------------------------------------------------------\u001b[0m",
            "\u001b[0;31mAttributeError\u001b[0m                            Traceback (most recent call last)",
            "\u001b[0;32m<ipython-input-60-1af3364c8e6a>\u001b[0m in \u001b[0;36m<module>\u001b[0;34m\u001b[0m\n\u001b[0;32m----> 1\u001b[0;31m \u001b[0mgoku\u001b[0m\u001b[0;34m.\u001b[0m\u001b[0mcolor_cabello\u001b[0m\u001b[0;34m(\u001b[0m\u001b[0;36m10000\u001b[0m\u001b[0;34m)\u001b[0m\u001b[0;34m\u001b[0m\u001b[0;34m\u001b[0m\u001b[0m\n\u001b[0m",
            "\u001b[0;32m<ipython-input-54-a0906c79e365>\u001b[0m in \u001b[0;36mcolor_cabello\u001b[0;34m(self, fuerza_base)\u001b[0m\n\u001b[1;32m     19\u001b[0m        \u001b[0mprint\u001b[0m\u001b[0;34m(\u001b[0m\u001b[0;34m\"Alcanza nivel sayayin fase 4\"\u001b[0m\u001b[0;34m)\u001b[0m\u001b[0;34m\u001b[0m\u001b[0;34m\u001b[0m\u001b[0m\n\u001b[1;32m     20\u001b[0m        \u001b[0mself\u001b[0m\u001b[0;34m.\u001b[0m\u001b[0mcabello\u001b[0m\u001b[0;34m=\u001b[0m\u001b[0;34m\"negro\"\u001b[0m\u001b[0;34m\u001b[0m\u001b[0;34m\u001b[0m\u001b[0m\n\u001b[0;32m---> 21\u001b[0;31m     \u001b[0;32mif\u001b[0m \u001b[0mself\u001b[0m\u001b[0;34m.\u001b[0m\u001b[0mcola\u001b[0m\u001b[0;34m==\u001b[0m\u001b[0;32mFalse\u001b[0m\u001b[0;34m:\u001b[0m\u001b[0;34m\u001b[0m\u001b[0;34m\u001b[0m\u001b[0m\n\u001b[0m\u001b[1;32m     22\u001b[0m         \u001b[0mself\u001b[0m\u001b[0;34m.\u001b[0m\u001b[0mcola\u001b[0m\u001b[0;34m=\u001b[0m\u001b[0;32mTrue\u001b[0m\u001b[0;34m\u001b[0m\u001b[0;34m\u001b[0m\u001b[0m\n\u001b[1;32m     23\u001b[0m     \u001b[0;32melse\u001b[0m\u001b[0;34m:\u001b[0m\u001b[0;34m\u001b[0m\u001b[0;34m\u001b[0m\u001b[0m\n",
            "\u001b[0;31mAttributeError\u001b[0m: 'Sayayin' object has no attribute 'cola'"
          ]
        }
      ]
    },
    {
      "cell_type": "code",
      "source": [
        "milk=Humano(\"Milk\",\"negros\",\"negro\",100,50)\n",
        "milk.__dict__"
      ],
      "metadata": {
        "colab": {
          "base_uri": "https://localhost:8080/"
        },
        "id": "nDEg84_4TN0B",
        "outputId": "261fb2a9-66f1-4879-cc66-4a28486af3c4"
      },
      "execution_count": null,
      "outputs": [
        {
          "output_type": "execute_result",
          "data": {
            "text/plain": [
              "{'cabello': 'negros', 'ojos': 'negro', 'fuerza': 100, 'estatura': 50}"
            ]
          },
          "metadata": {},
          "execution_count": 62
        }
      ]
    },
    {
      "cell_type": "code",
      "source": [
        "gohan.trabajo(1)"
      ],
      "metadata": {
        "colab": {
          "base_uri": "https://localhost:8080/"
        },
        "id": "Kn0LBVu8VQnY",
        "outputId": "a029f2fb-2176-4b38-efd9-b3c8ad524326"
      },
      "execution_count": null,
      "outputs": [
        {
          "output_type": "stream",
          "name": "stdout",
          "text": [
            "Gohan es de tipo guerrero\n"
          ]
        }
      ]
    }
  ]
}