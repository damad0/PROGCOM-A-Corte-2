{
  "nbformat": 4,
  "nbformat_minor": 0,
  "metadata": {
    "colab": {
      "provenance": []
    },
    "kernelspec": {
      "name": "python3",
      "display_name": "Python 3"
    },
    "language_info": {
      "name": "python"
    }
  },
  "cells": [
    {
      "cell_type": "code",
      "execution_count": null,
      "metadata": {
        "id": "qHbe8EqGF1B7"
      },
      "outputs": [],
      "source": [
        "class Espadas():\n",
        "  nombre=\"Soy una espada\"\n",
        "  daño=\"causo daño\"\n",
        "  def __init__(self,nombre,daño):\n",
        "    self.nombre = nombre\n",
        "    self.daño = daño\n",
        "\n",
        "  def __repr__(self):\n",
        "    return f\"espada de:{self.nombre}, y causa:{self.daño} de daño\""
      ]
    },
    {
      "cell_type": "code",
      "source": [
        "class Espada_elemental(Espadas): #clase hija\n",
        " def masatributos(self,elemento,tamaño,durabilidad,color):\n",
        "   self.elemento = elemento\n",
        "   self.tamaño = tamaño\n",
        "   self.durabilidad = durabilidad\n",
        "   self.color = color "
      ],
      "metadata": {
        "id": "XxGh141MGPtf"
      },
      "execution_count": null,
      "outputs": []
    },
    {
      "cell_type": "code",
      "source": [
        "espada1=Espada_elemental(\"Carmesí\",200) #Atributos clase madre"
      ],
      "metadata": {
        "id": "lO2JLQmXI9bD"
      },
      "execution_count": null,
      "outputs": []
    },
    {
      "cell_type": "code",
      "source": [
        "print(espada1)"
      ],
      "metadata": {
        "colab": {
          "base_uri": "https://localhost:8080/"
        },
        "id": "lzaB4YeRJMyL",
        "outputId": "824e85e9-c060-4a97-df15-878f018e4861"
      },
      "execution_count": null,
      "outputs": [
        {
          "output_type": "stream",
          "name": "stdout",
          "text": [
            "espada de:Carmesí, y causa:200 de daño\n"
          ]
        }
      ]
    },
    {
      "cell_type": "code",
      "source": [
        "espada1.masatributos(\"fuego\",30, 300, \"rojo\") #Atributos clase hija"
      ],
      "metadata": {
        "id": "w4yMP8QzJTFK"
      },
      "execution_count": null,
      "outputs": []
    },
    {
      "cell_type": "code",
      "source": [
        "espada1.__dict__ #Nombre y daño heredados de la clase"
      ],
      "metadata": {
        "colab": {
          "base_uri": "https://localhost:8080/"
        },
        "id": "d3PbhlFQKGgq",
        "outputId": "1fbaad18-bc19-4adf-ff61-d04b3d8f4cca"
      },
      "execution_count": null,
      "outputs": [
        {
          "output_type": "execute_result",
          "data": {
            "text/plain": [
              "{'nombre': 'Carmesí',\n",
              " 'daño': 200,\n",
              " 'elemento': 'fuego',\n",
              " 'tamaño': 30,\n",
              " 'durabilidad': 300,\n",
              " 'color': 'rojo'}"
            ]
          },
          "metadata": {},
          "execution_count": 18
        }
      ]
    },
    {
      "cell_type": "code",
      "source": [
        "class Humano():\n",
        "  def __init__(self,nombre,edad,cuerpo,piernas,brazos,ojos,cabello,nariz,color_piel):\n",
        "    self.nombre=nombre\n",
        "    self.edad=edad\n",
        "    self.cuerpo=cuerpo\n",
        "    self.piernas=piernas\n",
        "    self.brazos=brazos\n",
        "    self.ojos=ojos\n",
        "    self.cabello=cabello\n",
        "    self.nariz=nariz\n",
        "    self.color_piel=color_piel\n",
        "  def caminar(self,aceleracion,velocidad):\n",
        "    if velocidad>0.5 and velocidad<1:\n",
        "      return f\"{self.nombre} está gateando\"\n",
        "    if velocidad>2 and velocidad<4:\n",
        "      return f\"{self.nombre} está caminando\"    \n",
        "    if velocidad>=5 and velocidad<7:\n",
        "      return f\"{self.nombre} está trotando\"\n",
        "    if velocidad>=7 and velocidad<10:\n",
        "      return f\"{self.nombre} está corriendo\"\n",
        "    if velocidad>=1 and velocidad<2:\n",
        "      return f\"{self.nombre} está cojeando\"\n",
        "    else:\n",
        "      return f\"{self.nombre} está trotando\"\n",
        "\n",
        "  def comer(self,saciedad):\n",
        "    if saciedad==0:\n",
        "      return f\"{self.nombre} tengo hambre\"\n",
        "    if saciedad>0 and saciedad<1:\n",
        "      return f\"{self.nombre} sigo con hambre pero no tanto\"\n",
        "    if saciedad>=1 and saciedad<1:\n",
        "      return f\"{self.nombre} estoy algo saciado\"\n",
        "    if saciedad>=2 and saciedad<4:\n",
        "      return f\"{self.nombre} estoy bien\"\n",
        "    else:\n",
        "      return f\"{self.nombre} estoy lleno bien\""
      ],
      "metadata": {
        "id": "8m4YXifzKNRp"
      },
      "execution_count": 20,
      "outputs": []
    },
    {
      "cell_type": "code",
      "source": [
        "estudiante=Humano('giren',16,'delgadogordo',2,2,'azules','rubio y corto',1,'negro')\n",
        "estudiante.__dict__"
      ],
      "metadata": {
        "id": "UZKnV_LRT2Ll",
        "colab": {
          "base_uri": "https://localhost:8080/"
        },
        "outputId": "bb4cdafc-105b-4d18-e3c9-043b180239c6"
      },
      "execution_count": 21,
      "outputs": [
        {
          "output_type": "execute_result",
          "data": {
            "text/plain": [
              "{'nombre': 'giren',\n",
              " 'edad': 16,\n",
              " 'cuerpo': 'delgadogordo',\n",
              " 'piernas': 2,\n",
              " 'brazos': 2,\n",
              " 'ojos': 'azules',\n",
              " 'cabello': 'rubio y corto',\n",
              " 'nariz': 1,\n",
              " 'color_piel': 'negro'}"
            ]
          },
          "metadata": {},
          "execution_count": 21
        }
      ]
    },
    {
      "cell_type": "code",
      "source": [
        "estudiante.caminar(10,2)"
      ],
      "metadata": {
        "colab": {
          "base_uri": "https://localhost:8080/",
          "height": 35
        },
        "id": "EXCKwJSaZ3yD",
        "outputId": "e73b9178-7bdd-4b8f-96c5-6ec217ae9dcb"
      },
      "execution_count": 23,
      "outputs": [
        {
          "output_type": "execute_result",
          "data": {
            "text/plain": [
              "'giren está trotando'"
            ],
            "application/vnd.google.colaboratory.intrinsic+json": {
              "type": "string"
            }
          },
          "metadata": {},
          "execution_count": 23
        }
      ]
    },
    {
      "cell_type": "code",
      "source": [
        "estudiante.comer(3)"
      ],
      "metadata": {
        "colab": {
          "base_uri": "https://localhost:8080/",
          "height": 35
        },
        "id": "3v2htUpcZ6ED",
        "outputId": "096f999d-53b7-46b1-e34a-09e9e75b1b98"
      },
      "execution_count": 24,
      "outputs": [
        {
          "output_type": "execute_result",
          "data": {
            "text/plain": [
              "'giren estoy bien'"
            ],
            "application/vnd.google.colaboratory.intrinsic+json": {
              "type": "string"
            }
          },
          "metadata": {},
          "execution_count": 24
        }
      ]
    },
    {
      "cell_type": "code",
      "source": [],
      "metadata": {
        "id": "ohPLYafMZ-ez"
      },
      "execution_count": null,
      "outputs": []
    }
  ]
}