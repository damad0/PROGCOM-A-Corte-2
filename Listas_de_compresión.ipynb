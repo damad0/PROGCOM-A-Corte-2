{
  "nbformat": 4,
  "nbformat_minor": 0,
  "metadata": {
    "colab": {
      "provenance": []
    },
    "kernelspec": {
      "name": "python3",
      "display_name": "Python 3"
    },
    "language_info": {
      "name": "python"
    }
  },
  "cells": [
    {
      "cell_type": "markdown",
      "source": [
        "Sintaxis: newList= [ expresión(elemento) for elemento n in oldList si condición]"
      ],
      "metadata": {
        "id": "PpHuPM84_XOf"
      }
    },
    {
      "cell_type": "markdown",
      "source": [
        "Ventajas:\n",
        "Más eficiente en tiempo y espacio que los bucles.\n",
        "Requiere menos líneas de código.\n",
        "Transforma una declaracíon iterativa en una fórmula."
      ],
      "metadata": {
        "id": "7mp8_KdS_7T9"
      }
    },
    {
      "cell_type": "code",
      "source": [
        "lista1=[8, 5, 4, 10, 2]\n",
        "lista2=[elementos**2 for elementos in lista1]\n",
        "print(\"Nueva lista\",lista2)"
      ],
      "metadata": {
        "colab": {
          "base_uri": "https://localhost:8080/"
        },
        "id": "_It1GLWZuvPA",
        "outputId": "0e0f1f83-088c-47ad-a4b4-69e40a429b4a"
      },
      "execution_count": 40,
      "outputs": [
        {
          "output_type": "stream",
          "name": "stdout",
          "text": [
            "Nueva lista [64, 25, 16, 100, 4]\n"
          ]
        }
      ]
    },
    {
      "cell_type": "markdown",
      "source": [
        "#Ejercicio 1 samuel"
      ],
      "metadata": {
        "id": "iNCbL0JBFOqT"
      }
    },
    {
      "cell_type": "code",
      "source": [
        "x=input(\"ingrese la palabra que desee:\")\n",
        "lista = [n for n in x ]\n",
        "print(lista)"
      ],
      "metadata": {
        "colab": {
          "base_uri": "https://localhost:8080/"
        },
        "id": "MMwH5LW-FS97",
        "outputId": "c1d2fd79-e7ac-45b7-f19f-fdfe4fc101a3"
      },
      "execution_count": 61,
      "outputs": [
        {
          "output_type": "stream",
          "name": "stdout",
          "text": [
            "ingrese la palabra que desee:hola\n",
            "['h', 'o', 'l', 'a']\n"
          ]
        }
      ]
    },
    {
      "cell_type": "markdown",
      "source": [
        "#ejercicio 2 mio"
      ],
      "metadata": {
        "id": "ZMUFZ3fxEHo4"
      }
    },
    {
      "cell_type": "code",
      "source": [
        "lista1=[8, 5, 4, 7, 2]\n",
        "lista2=[elementos**2 for elementos in lista1 if elementos%2==0]\n",
        "print(\"Nueva lista\",lista2)"
      ],
      "metadata": {
        "colab": {
          "base_uri": "https://localhost:8080/"
        },
        "id": "NKVI67yD1fn3",
        "outputId": "38a5003d-c41c-44c7-ac78-f0488fbcc049"
      },
      "execution_count": 50,
      "outputs": [
        {
          "output_type": "stream",
          "name": "stdout",
          "text": [
            "Nueva lista [64, 16, 4]\n"
          ]
        }
      ]
    },
    {
      "cell_type": "markdown",
      "source": [
        "#Ejercicio 3 Ivan "
      ],
      "metadata": {
        "id": "Ga9kKABxERGg"
      }
    },
    {
      "cell_type": "code",
      "source": [
        "import random \n",
        "capitan= [random.randrange(1,30) for i in range(9)] # Rango donde se va generar la lista\n",
        "print(\"imprimir números aleatorios de la lista:\"), str(capitan)"
      ],
      "metadata": {
        "colab": {
          "base_uri": "https://localhost:8080/"
        },
        "id": "3Rw7v2nP2RwX",
        "outputId": "6b60edec-0374-4a30-aa04-1f44b8d6becd"
      },
      "execution_count": 55,
      "outputs": [
        {
          "output_type": "stream",
          "name": "stdout",
          "text": [
            "imprimir números aleatorios de la lista:\n"
          ]
        },
        {
          "output_type": "execute_result",
          "data": {
            "text/plain": [
              "(None, '[29, 9, 27, 27, 26, 7, 3, 10, 5]')"
            ]
          },
          "metadata": {},
          "execution_count": 55
        }
      ]
    },
    {
      "cell_type": "markdown",
      "source": [
        "#ejercicio 4 juan pablo"
      ],
      "metadata": {
        "id": "2uucvQQJFGwO"
      }
    },
    {
      "cell_type": "code",
      "source": [
        "precios=[]\n",
        "print(\"ingrese los números de los que quieres hacer un descuento\")\n",
        "det= True\n",
        "while det:\n",
        "  num =int(input(\"si no desea agregar mas números digite 0\"))\n",
        "  precios.append(num)\n",
        "  det= False if num == 0 else num>0\n",
        "des=float(input(print(\"ingrese el descuento sin el %\")))\n",
        "presdes=[precio*des/100 for precio in precios]\n",
        "presdes.pop(-1)\n",
        "print(\"Este es el valor que le debes restar a cada número\",presdes)"
      ],
      "metadata": {
        "colab": {
          "base_uri": "https://localhost:8080/"
        },
        "id": "ZkETOy6mCI_l",
        "outputId": "d4e94e98-7e74-4b93-8135-1a91e842487c"
      },
      "execution_count": 59,
      "outputs": [
        {
          "output_type": "stream",
          "name": "stdout",
          "text": [
            "ingrese los números de los que quieres hacer un descuento\n",
            "si no desea agregar mas números digite 0100\n",
            "si no desea agregar mas números digite 00\n",
            "ingrese el descuento sin el %\n",
            "None20\n",
            "Este es el valor que le debes restar a cada número [20.0]\n"
          ]
        }
      ]
    },
    {
      "cell_type": "markdown",
      "source": [],
      "metadata": {
        "id": "41lpPFseHw3I"
      }
    },
    {
      "cell_type": "markdown",
      "source": [
        "#Ejercicio 5 cristian"
      ],
      "metadata": {
        "id": "WT1z1VGLH2I5"
      }
    },
    {
      "cell_type": "code",
      "source": [
        "num = []\n",
        "for i in range(6):\n",
        "  num.append(int(input(\"introduce el numero ganador\")))\n",
        "  num.sort()\n",
        "  print(\"los números ganadores del baloto son:\"+ str(num))"
      ],
      "metadata": {
        "colab": {
          "base_uri": "https://localhost:8080/"
        },
        "id": "UEgttuA2H5K_",
        "outputId": "a574f4b4-caf0-42d2-98e4-50f49cfebbd2"
      },
      "execution_count": 60,
      "outputs": [
        {
          "output_type": "stream",
          "name": "stdout",
          "text": [
            "introduce el numero ganador2\n",
            "los números ganadores del baloto son:[2]\n",
            "introduce el numero ganador3\n",
            "los números ganadores del baloto son:[2, 3]\n",
            "introduce el numero ganador4\n",
            "los números ganadores del baloto son:[2, 3, 4]\n",
            "introduce el numero ganador3\n",
            "los números ganadores del baloto son:[2, 3, 3, 4]\n",
            "introduce el numero ganador2\n",
            "los números ganadores del baloto son:[2, 2, 3, 3, 4]\n",
            "introduce el numero ganador23\n",
            "los números ganadores del baloto son:[2, 2, 3, 3, 4, 23]\n"
          ]
        }
      ]
    },
    {
      "cell_type": "code",
      "source": [],
      "metadata": {
        "id": "1Jru7RgOITRW"
      },
      "execution_count": null,
      "outputs": []
    }
  ]
}