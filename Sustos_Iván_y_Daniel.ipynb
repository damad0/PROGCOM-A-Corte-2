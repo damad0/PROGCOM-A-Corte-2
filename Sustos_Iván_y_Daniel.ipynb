{
  "nbformat": 4,
  "nbformat_minor": 0,
  "metadata": {
    "colab": {
      "provenance": []
    },
    "kernelspec": {
      "name": "python3",
      "display_name": "Python 3"
    },
    "language_info": {
      "name": "python"
    }
  },
  "cells": [
    {
      "cell_type": "code",
      "source": [
        "import random\n",
        "dulces=[]\n",
        "tipos_de_dulces=[\"\\U0001F480\t\", \"\\U0001F47F\t\", \"\\U0001F479\t\", \"\\U0001F47A\t\", \"\\U0001F47B\t\"]\n",
        "x=input(\".........\").lower()\n",
        "if x ==\"truco\":\n",
        "  requerimientos()"
      ],
      "metadata": {
        "colab": {
          "base_uri": "https://localhost:8080/"
        },
        "id": "TxJmyoXOTSqd",
        "outputId": "6181c438-7a86-4281-dbb3-37d93928975d"
      },
      "execution_count": 13,
      "outputs": [
        {
          "output_type": "stream",
          "name": "stdout",
          "text": [
            ".........Truco\n",
            "Cómo te llamasDaniel\n",
            "Cuántos años tienes? 18\n",
            "Cuál es tu altura en cm? 100\n",
            "['👺\\t', '👻\\t', '👻\\t', '👻\\t']\n"
          ]
        }
      ]
    },
    {
      "cell_type": "code",
      "execution_count": 12,
      "metadata": {
        "id": "4VILkNc2TCXi"
      },
      "outputs": [],
      "source": [
        "def requerimientos():\n",
        "  d=input(\"Cómo te llamas\").count\n",
        "  y=int(input(\"Cuántos años tienes? \"))\n",
        "  if y%2==0:\n",
        "   z=int(input(\"Cuál es tu altura en cm? \"))\n",
        "  if z>=50 and z<=100:\n",
        "    p=int(((z/50)*2))\n",
        "    for i in range(0,p):\n",
        "      dulces.append(random.choice(tipos_de_dulces))\n",
        "  print(dulces)"
      ]
    }
  ]
}