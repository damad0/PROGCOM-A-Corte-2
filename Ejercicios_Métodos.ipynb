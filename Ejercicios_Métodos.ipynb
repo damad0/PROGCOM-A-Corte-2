{
  "nbformat": 4,
  "nbformat_minor": 0,
  "metadata": {
    "colab": {
      "provenance": [],
      "collapsed_sections": [
        "LXqz893enBKM",
        "OtwCjN9ip8m2",
        "wagFIkggrNt1",
        "kE6wLnYjvJXI",
        "q2bhdlphxv4E",
        "NiEKpC8eyl13",
        "O8IFDvg4y6Bt",
        "QH3-gkLzzSLV"
      ]
    },
    "kernelspec": {
      "name": "python3",
      "display_name": "Python 3"
    },
    "language_info": {
      "name": "python"
    }
  },
  "cells": [
    {
      "cell_type": "markdown",
      "source": [
        "## 1. Determine el mayor de dos números"
      ],
      "metadata": {
        "id": "LXqz893enBKM"
      }
    },
    {
      "cell_type": "code",
      "source": [
        "def npc(a,b):\n",
        "  if a>b:\n",
        "    print(f\" {a} es el mayor\")\n",
        "  else:\n",
        "    print(b,\"es el mayor\")"
      ],
      "metadata": {
        "id": "skFgA6zjnG-Y"
      },
      "execution_count": 13,
      "outputs": []
    },
    {
      "cell_type": "code",
      "execution_count": 14,
      "metadata": {
        "id": "j26-utO5h-Bt",
        "colab": {
          "base_uri": "https://localhost:8080/"
        },
        "outputId": "a2de5b8c-a15f-40e2-8e98-3c1a948b0804"
      },
      "outputs": [
        {
          "output_type": "stream",
          "name": "stdout",
          "text": [
            "5 es el mayor\n",
            "None\n"
          ]
        }
      ],
      "source": [
        "print(npc(4,5))"
      ]
    },
    {
      "cell_type": "code",
      "source": [
        "def mayor(x,y,z):\n",
        "  npc(x,npc(y,z))"
      ],
      "metadata": {
        "id": "E75XVMc1nu1w"
      },
      "execution_count": 9,
      "outputs": []
    },
    {
      "cell_type": "code",
      "source": [
        "mayor(4,5,6)"
      ],
      "metadata": {
        "colab": {
          "base_uri": "https://localhost:8080/",
          "height": 311
        },
        "id": "JnFYWJTYoGIk",
        "outputId": "afff9c6d-97bc-496a-9844-cb36eed680c2"
      },
      "execution_count": 10,
      "outputs": [
        {
          "output_type": "stream",
          "name": "stdout",
          "text": [
            "6 es el mayor\n"
          ]
        },
        {
          "output_type": "error",
          "ename": "TypeError",
          "evalue": "ignored",
          "traceback": [
            "\u001b[0;31m---------------------------------------------------------------------------\u001b[0m",
            "\u001b[0;31mTypeError\u001b[0m                                 Traceback (most recent call last)",
            "\u001b[0;32m<ipython-input-10-d623de6556d6>\u001b[0m in \u001b[0;36m<module>\u001b[0;34m\u001b[0m\n\u001b[0;32m----> 1\u001b[0;31m \u001b[0mmayor\u001b[0m\u001b[0;34m(\u001b[0m\u001b[0;36m4\u001b[0m\u001b[0;34m,\u001b[0m\u001b[0;36m5\u001b[0m\u001b[0;34m,\u001b[0m\u001b[0;36m6\u001b[0m\u001b[0;34m)\u001b[0m\u001b[0;34m\u001b[0m\u001b[0;34m\u001b[0m\u001b[0m\n\u001b[0m",
            "\u001b[0;32m<ipython-input-9-5d5c755fc6a0>\u001b[0m in \u001b[0;36mmayor\u001b[0;34m(x, y, z)\u001b[0m\n\u001b[1;32m      1\u001b[0m \u001b[0;32mdef\u001b[0m \u001b[0mmayor\u001b[0m\u001b[0;34m(\u001b[0m\u001b[0mx\u001b[0m\u001b[0;34m,\u001b[0m\u001b[0my\u001b[0m\u001b[0;34m,\u001b[0m\u001b[0mz\u001b[0m\u001b[0;34m)\u001b[0m\u001b[0;34m:\u001b[0m\u001b[0;34m\u001b[0m\u001b[0;34m\u001b[0m\u001b[0m\n\u001b[0;32m----> 2\u001b[0;31m   \u001b[0mnpc\u001b[0m\u001b[0;34m(\u001b[0m\u001b[0mx\u001b[0m\u001b[0;34m,\u001b[0m\u001b[0mnpc\u001b[0m\u001b[0;34m(\u001b[0m\u001b[0my\u001b[0m\u001b[0;34m,\u001b[0m\u001b[0mz\u001b[0m\u001b[0;34m)\u001b[0m\u001b[0;34m)\u001b[0m\u001b[0;34m\u001b[0m\u001b[0;34m\u001b[0m\u001b[0m\n\u001b[0m",
            "\u001b[0;32m<ipython-input-6-84f89a8c5d7f>\u001b[0m in \u001b[0;36mnpc\u001b[0;34m(a, b)\u001b[0m\n\u001b[1;32m      1\u001b[0m \u001b[0;32mdef\u001b[0m \u001b[0mnpc\u001b[0m\u001b[0;34m(\u001b[0m\u001b[0ma\u001b[0m\u001b[0;34m,\u001b[0m\u001b[0mb\u001b[0m\u001b[0;34m)\u001b[0m\u001b[0;34m:\u001b[0m\u001b[0;34m\u001b[0m\u001b[0;34m\u001b[0m\u001b[0m\n\u001b[0;32m----> 2\u001b[0;31m   \u001b[0;32mif\u001b[0m \u001b[0ma\u001b[0m\u001b[0;34m>\u001b[0m\u001b[0mb\u001b[0m\u001b[0;34m:\u001b[0m\u001b[0;34m\u001b[0m\u001b[0;34m\u001b[0m\u001b[0m\n\u001b[0m\u001b[1;32m      3\u001b[0m     \u001b[0mprint\u001b[0m\u001b[0;34m(\u001b[0m\u001b[0;34mf\" {a} es el mayor\"\u001b[0m\u001b[0;34m)\u001b[0m\u001b[0;34m\u001b[0m\u001b[0;34m\u001b[0m\u001b[0m\n\u001b[1;32m      4\u001b[0m   \u001b[0mprint\u001b[0m\u001b[0;34m(\u001b[0m\u001b[0mb\u001b[0m\u001b[0;34m,\u001b[0m\u001b[0;34m\"es el mayor\"\u001b[0m\u001b[0;34m)\u001b[0m\u001b[0;34m\u001b[0m\u001b[0;34m\u001b[0m\u001b[0m\n",
            "\u001b[0;31mTypeError\u001b[0m: '>' not supported between instances of 'int' and 'NoneType'"
          ]
        }
      ]
    },
    {
      "cell_type": "markdown",
      "source": [
        "##2. Determine el mayor de tres números (empleando la función anterior)"
      ],
      "metadata": {
        "id": "OtwCjN9ip8m2"
      }
    },
    {
      "cell_type": "code",
      "source": [],
      "metadata": {
        "id": "gv2A0-YYoJes"
      },
      "execution_count": null,
      "outputs": []
    },
    {
      "cell_type": "markdown",
      "source": [
        "##3. Sumar los números de una lista de 3 elementos. Ejemplo [3,4,5]. Salida: 12"
      ],
      "metadata": {
        "id": "wagFIkggrNt1"
      }
    },
    {
      "cell_type": "code",
      "source": [
        "def sumas(listas):\n",
        "  a=listas[0]+listas[1]+listas[2]\n",
        "  return(a)"
      ],
      "metadata": {
        "id": "J4RsZyX-rQb7"
      },
      "execution_count": 97,
      "outputs": []
    },
    {
      "cell_type": "code",
      "source": [
        "listas=[3,4,5]\n",
        "sumas(listas)"
      ],
      "metadata": {
        "colab": {
          "base_uri": "https://localhost:8080/"
        },
        "id": "TjH_l-b-tUnU",
        "outputId": "34807ce0-203f-49b8-b4bc-df1373fc8934"
      },
      "execution_count": 98,
      "outputs": [
        {
          "output_type": "execute_result",
          "data": {
            "text/plain": [
              "12"
            ]
          },
          "metadata": {},
          "execution_count": 98
        }
      ]
    },
    {
      "cell_type": "markdown",
      "source": [
        "##4. Sumar los números de una lista de 4 elementos. Ejemplo [3,4,5,6]. Salida: 18"
      ],
      "metadata": {
        "id": "kE6wLnYjvJXI"
      }
    },
    {
      "cell_type": "code",
      "source": [
        "def sumas(listas):\n",
        "  a=listas[0]+listas[1]+listas[2]+listas[3]\n",
        "  return(a)"
      ],
      "metadata": {
        "id": "tDZ_a7UxvMzH"
      },
      "execution_count": 95,
      "outputs": []
    },
    {
      "cell_type": "code",
      "source": [
        "listas=[3,4,5,6]\n",
        "sumas(listas)"
      ],
      "metadata": {
        "colab": {
          "base_uri": "https://localhost:8080/"
        },
        "id": "Yf9HlE8AxMdG",
        "outputId": "d9eb2e12-aa3e-437d-e803-8b80c16fa036"
      },
      "execution_count": 96,
      "outputs": [
        {
          "output_type": "execute_result",
          "data": {
            "text/plain": [
              "18"
            ]
          },
          "metadata": {},
          "execution_count": 96
        }
      ]
    },
    {
      "cell_type": "markdown",
      "source": [
        "##5. Sumar todos los números de una lista. Ejemplo: (8,5,3,1). Salida: 17"
      ],
      "metadata": {
        "id": "q2bhdlphxv4E"
      }
    },
    {
      "cell_type": "code",
      "source": [
        "def sumas(listas):\n",
        "  a=listas[0]+listas[1]+listas[2]+listas[3]\n",
        "  return(a)"
      ],
      "metadata": {
        "id": "hrlL9qpYxyV1"
      },
      "execution_count": 94,
      "outputs": []
    },
    {
      "cell_type": "code",
      "source": [
        "listas=[8,5,3,1]\n",
        "sumas(listas)"
      ],
      "metadata": {
        "colab": {
          "base_uri": "https://localhost:8080/"
        },
        "id": "ZGNw7samx0p0",
        "outputId": "da8b72b9-5395-4ecc-8c63-9d39f141025c"
      },
      "execution_count": 85,
      "outputs": [
        {
          "output_type": "execute_result",
          "data": {
            "text/plain": [
              "17"
            ]
          },
          "metadata": {},
          "execution_count": 85
        }
      ]
    },
    {
      "cell_type": "markdown",
      "source": [
        "##6. Multiplicar los números de una lista de 3 elementos. Ejemplo [0,4,5]. Salida: 0"
      ],
      "metadata": {
        "id": "NiEKpC8eyl13"
      }
    },
    {
      "cell_type": "code",
      "source": [
        "def sumas(listas):\n",
        "  a=listas[0]*listas[1]*listas[2]\n",
        "  return(a)"
      ],
      "metadata": {
        "id": "40JZK9vlynM-"
      },
      "execution_count": 92,
      "outputs": []
    },
    {
      "cell_type": "code",
      "source": [
        "listas=[0,4,5]\n",
        "sumas(listas)"
      ],
      "metadata": {
        "colab": {
          "base_uri": "https://localhost:8080/"
        },
        "id": "v9GK3hGgyqQ3",
        "outputId": "d3a67b59-ef7a-402f-d392-5c9af40b3f24"
      },
      "execution_count": 93,
      "outputs": [
        {
          "output_type": "execute_result",
          "data": {
            "text/plain": [
              "0"
            ]
          },
          "metadata": {},
          "execution_count": 93
        }
      ]
    },
    {
      "cell_type": "markdown",
      "source": [
        "##7. Multiplicar los números de una lista de 4 elementos. Ejemplo [3,4,5,1]. Salida: 60"
      ],
      "metadata": {
        "id": "O8IFDvg4y6Bt"
      }
    },
    {
      "cell_type": "code",
      "source": [
        "def sumas(listas):\n",
        "  a=listas[0]*listas[1]*listas[2]*listas[3]\n",
        "  return(a)"
      ],
      "metadata": {
        "id": "KTR2AvjTy8UF"
      },
      "execution_count": 90,
      "outputs": []
    },
    {
      "cell_type": "code",
      "source": [
        "listas=[3,4,5,1]\n",
        "sumas(listas)"
      ],
      "metadata": {
        "colab": {
          "base_uri": "https://localhost:8080/"
        },
        "id": "QNNlFLBry-T-",
        "outputId": "0abec605-12bf-4d06-f9bd-b84a83f996ff"
      },
      "execution_count": 91,
      "outputs": [
        {
          "output_type": "execute_result",
          "data": {
            "text/plain": [
              "60"
            ]
          },
          "metadata": {},
          "execution_count": 91
        }
      ]
    },
    {
      "cell_type": "markdown",
      "source": [
        "##8. Multiplicar todos los números de una lista. Ejemplo: (1,2,3,-1). Salida: -6"
      ],
      "metadata": {
        "id": "QH3-gkLzzSLV"
      }
    },
    {
      "cell_type": "code",
      "source": [
        "def sumas(listas):\n",
        "  a=listas[0]*listas[1]*listas[2]*listas[3]\n",
        "  return(a)"
      ],
      "metadata": {
        "id": "wMz4PSt5zTJv"
      },
      "execution_count": 99,
      "outputs": []
    },
    {
      "cell_type": "code",
      "source": [
        "listas=[1,2,3,-1]\n",
        "sumas(listas)"
      ],
      "metadata": {
        "colab": {
          "base_uri": "https://localhost:8080/"
        },
        "id": "zVg0bpGyzYEN",
        "outputId": "ef90a6dd-987f-4983-8fbb-e14c0b52fef2"
      },
      "execution_count": 100,
      "outputs": [
        {
          "output_type": "execute_result",
          "data": {
            "text/plain": [
              "-6"
            ]
          },
          "metadata": {},
          "execution_count": 100
        }
      ]
    },
    {
      "cell_type": "markdown",
      "source": [
        "##9. Invierta un String. Ejemplo: ingresa Hola y retorna aloH"
      ],
      "metadata": {
        "id": "ulx0bnAmzvJs"
      }
    },
    {
      "cell_type": "code",
      "source": [
        "def letra(largo):\n",
        "  a=largo[-1]+largo[-2]+largo[-3]+largo[-4]\n",
        "  return(a)"
      ],
      "metadata": {
        "id": "fFbes7vSzv5s"
      },
      "execution_count": 123,
      "outputs": []
    },
    {
      "cell_type": "code",
      "source": [
        "largo=\"Hola\"\n",
        "letra(largo)"
      ],
      "metadata": {
        "colab": {
          "base_uri": "https://localhost:8080/",
          "height": 36
        },
        "id": "SQISdL1vz7dt",
        "outputId": "ac9620ea-3923-40ea-9496-795eaae44ad9"
      },
      "execution_count": 125,
      "outputs": [
        {
          "output_type": "execute_result",
          "data": {
            "text/plain": [
              "'aloH'"
            ],
            "application/vnd.google.colaboratory.intrinsic+json": {
              "type": "string"
            }
          },
          "metadata": {},
          "execution_count": 125
        }
      ]
    },
    {
      "cell_type": "markdown",
      "source": [
        "##10. Calcular el factorial de un número"
      ],
      "metadata": {
        "id": "hnG9-yBH19H_"
      }
    },
    {
      "cell_type": "code",
      "source": [
        "def fac(num):\n",
        "  a=1\n",
        "  for i in range (1,num+1):\n",
        "    a=i*a\n",
        "  return(a)\n"
      ],
      "metadata": {
        "id": "dv2IhxZH6PEa"
      },
      "execution_count": 10,
      "outputs": []
    },
    {
      "cell_type": "code",
      "source": [
        "fac(5)"
      ],
      "metadata": {
        "colab": {
          "base_uri": "https://localhost:8080/"
        },
        "id": "tNjQqS-N6xcv",
        "outputId": "b01283c7-15b4-4ada-fad0-76dbf4ce8d08"
      },
      "execution_count": 11,
      "outputs": [
        {
          "output_type": "execute_result",
          "data": {
            "text/plain": [
              "120"
            ]
          },
          "metadata": {},
          "execution_count": 11
        }
      ]
    },
    {
      "cell_type": "markdown",
      "source": [
        "##11. Si un número está dentro de un rango"
      ],
      "metadata": {
        "id": "etom1Jjn-nOw"
      }
    },
    {
      "cell_type": "code",
      "source": [
        "def ran(num):\n",
        "  if a<c and b>c:\n",
        "    print(\"el numero esta en el rango\")\n",
        "  else:\n",
        "    print(\"no esta en el rango\")"
      ],
      "metadata": {
        "id": "ReIihiE5-oCQ"
      },
      "execution_count": 15,
      "outputs": []
    },
    {
      "cell_type": "code",
      "source": [
        "a=float(input(\"ingresa el rango menor\"))\n",
        "b=float(input(\"ingresa el rango mayor\"))\n",
        "c=float(input(\"ingresa el numero\"))\n",
        "print(ran(c))"
      ],
      "metadata": {
        "colab": {
          "base_uri": "https://localhost:8080/"
        },
        "id": "v63K6J0LAhQt",
        "outputId": "fb7f310e-f39a-4503-839b-76af8890a4d2"
      },
      "execution_count": 17,
      "outputs": [
        {
          "output_type": "stream",
          "name": "stdout",
          "text": [
            "ingresa el rango menor0\n",
            "ingresa el rango mayor20\n",
            "ingresa el numero21\n",
            "no esta en el rango\n",
            "None\n"
          ]
        }
      ]
    },
    {
      "cell_type": "markdown",
      "source": [
        "##12. Capture el número de mayúsculas y minúsculas en una oración."
      ],
      "metadata": {
        "id": "oWsqssjP-og5"
      }
    },
    {
      "cell_type": "code",
      "source": [],
      "metadata": {
        "id": "uNe6dc1Z-qpw"
      },
      "execution_count": null,
      "outputs": []
    }
  ]
}