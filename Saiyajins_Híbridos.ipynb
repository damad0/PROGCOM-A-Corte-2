{
  "nbformat": 4,
  "nbformat_minor": 0,
  "metadata": {
    "colab": {
      "provenance": [],
      "collapsed_sections": []
    },
    "kernelspec": {
      "name": "python3",
      "display_name": "Python 3"
    },
    "language_info": {
      "name": "python"
    }
  },
  "cells": [
    {
      "cell_type": "code",
      "execution_count": 1,
      "metadata": {
        "id": "IGuXqZL8J9Hw"
      },
      "outputs": [],
      "source": [
        "class Sayayin():\n",
        "  def __init__(self,nombre,cabello,ojos,fuerza,estatura,cola_de_mono):\n",
        "    self._cabello=\"Negro\"\n",
        "    self._ojos=\"Negros\"\n",
        "    self.__fuerza=fuerza\n",
        "    self._estatura=estatura\n",
        "    self._cola_de_mono=True\n",
        "    self._nombre=nombre\n",
        "\n",
        "  def color_cabello(self,fuerza_base):\n",
        "    fuerza_t=90000\n",
        "    if fuerza_base*10>=fuerza_t:\n",
        "      print(\"Alcanza nivel sayayin fase 1\")\n",
        "      self.cabello=\"rubio\"\n",
        "    elif fuerza_base*20>=fuerza_t*20:\n",
        "       print(\"Alcanza nivel sayayin fase 2\")\n",
        "       self.cabello=\"rubio\"\n",
        "    elif fuerza_base*1000>=fuerza_t*1000:\n",
        "       print(\"Alcanza nivel sayayin fase 4\")\n",
        "       self.cabello=\"negro\"\n",
        "    if self.cola==False:\n",
        "        self.cola=True\n",
        "    else:\n",
        "      print(\"Alcanza nivel sayayin ultrainstinto\")\n",
        "      self.cabello=\"Cenizo\"\n",
        "\n",
        "  def luna(self,luna): \n",
        "    if self.cola and luna==\"luna llena\":\n",
        "      print(self.nombre,\"se convierte en ozaru\")  \n",
        "      self.fuerza=self.fuerza*50\n",
        "    else:\n",
        "      print(self.nombre,\"No se trasnforma en nada\")   \n",
        "\n",
        "  \n",
        "\n",
        "  def trabajo(self,trabajo):\n",
        "    if trabajo==1:\n",
        "      print(f\"{self.nombre} es de tipo guerrero\")   \n",
        "    elif trabajo==2:\n",
        "      print(f\"{self.nombre} es de tipo liendra de freezer\")\n",
        "    elif trabajo==3:\n",
        "      print(f\"{self.nombre} es de tipo mercenarios\")\n",
        "    else:\n",
        "      print(f\"{self.nombre} es de la realeza \")  \n"
      ]
    },
    {
      "cell_type": "code",
      "source": [
        "class Humano():\n",
        "  def __init__(self,nombre,cabello,ojos,fuerza,estatura):\n",
        "    self.cabello=cabello\n",
        "    self.ojos=ojos\n",
        "    self.fuerza=fuerza\n",
        "    self.estatura=estatura\n",
        "  def coloc_cabello(self,tinte):\n",
        "    if tinte==0:\n",
        "      print(self.nombre,\"Se ha descolorado el cabello\")\n",
        "      self.cabello=\"Amarillo\"\n",
        "    elif tinte==2:\n",
        "      print(self.nombre,\"ha colorado su cabello de lila\")\n",
        "      self.cabello=\"Lila\"    \n",
        "    elif tinte==3:\n",
        "      print(self.nombre,\"ha colorado su cabello nuez\")\n",
        "      self.cabello=\"Nuez\"  \n",
        "    else:\n",
        "      print(self.nombre,\"ha colorado su cabello canoso\")\n",
        "      self.cabello=\"Canoso\" \n",
        "\n",
        "  def trabajo(self,trabajo):   \n",
        "    if trabajo==0:\n",
        "      print(f\"{self.nombre} trabaja como callcenter\")\n",
        "    elif trabajo==2:\n",
        "      print(f\"{self.nombre} trabaja como vendedor de bonice\")    \n",
        "    elif trabajo==3:\n",
        "      print(f\"{self.nombre} trabaja como tombo\") \n",
        "    elif trabajo==4:\n",
        "      print(f\"{self.nombre}trabaja programador python\")   \n",
        "    else:\n",
        "      print(f\"{self.nombre} es nini\")\n"
      ],
      "metadata": {
        "id": "x9qtQHJTZJro"
      },
      "execution_count": 2,
      "outputs": []
    },
    {
      "cell_type": "code",
      "source": [
        "class Hibrido(Sayayin,Humano):\n",
        "  def __init__(self,trabajo):\n",
        "    #Sayayin.__init__(nombre,cabello,ojos,fuerza,estatura,cola_de_mono)\n",
        "    super()\n",
        "    self.trabajo=trabajo"
      ],
      "metadata": {
        "id": "n6rBdiBNZMAn"
      },
      "execution_count": 3,
      "outputs": []
    },
    {
      "cell_type": "code",
      "source": [
        "goku=Sayayin(\"Kakaoroto\", \"arcoíris\", \"verde-dorado\",100,50,True)\n",
        "goku.__dict__"
      ],
      "metadata": {
        "colab": {
          "base_uri": "https://localhost:8080/"
        },
        "id": "QGfG_CIrZNxQ",
        "outputId": "371ad718-9711-4dd7-dc54-ea27291e972b"
      },
      "execution_count": 14,
      "outputs": [
        {
          "output_type": "execute_result",
          "data": {
            "text/plain": [
              "{'_cabello': 'Negro',\n",
              " '_ojos': 'Negros',\n",
              " '_Sayayin__fuerza': 100,\n",
              " '_estatura': 50,\n",
              " '_cola_de_mono': True,\n",
              " '_nombre': 'Kakaoroto'}"
            ]
          },
          "metadata": {},
          "execution_count": 14
        }
      ]
    },
    {
      "cell_type": "code",
      "source": [
        "goku.__fuerza=50000\n",
        "goku.__dict__"
      ],
      "metadata": {
        "colab": {
          "base_uri": "https://localhost:8080/"
        },
        "id": "gt5HanmeZPQ3",
        "outputId": "cbace3f6-8eff-4ba5-e6f8-f8e9cfa5dbf7"
      },
      "execution_count": 15,
      "outputs": [
        {
          "output_type": "execute_result",
          "data": {
            "text/plain": [
              "{'_cabello': 'Negro',\n",
              " '_ojos': 'Negros',\n",
              " '_Sayayin__fuerza': 100,\n",
              " '_estatura': 50,\n",
              " '_cola_de_mono': True,\n",
              " '_nombre': 'Kakaoroto',\n",
              " '__fuerza': 50000}"
            ]
          },
          "metadata": {},
          "execution_count": 15
        }
      ]
    },
    {
      "cell_type": "code",
      "source": [
        "goku.color_cabello(10000)"
      ],
      "metadata": {
        "colab": {
          "base_uri": "https://localhost:8080/",
          "height": 304
        },
        "id": "f7d3q-iWZRhZ",
        "outputId": "1b52eeea-b0f0-48ac-b103-980d18b57f50"
      },
      "execution_count": 13,
      "outputs": [
        {
          "output_type": "stream",
          "name": "stdout",
          "text": [
            "Alcanza nivel sayayin fase 1\n"
          ]
        },
        {
          "output_type": "error",
          "ename": "AttributeError",
          "evalue": "ignored",
          "traceback": [
            "\u001b[0;31m---------------------------------------------------------------------------\u001b[0m",
            "\u001b[0;31mAttributeError\u001b[0m                            Traceback (most recent call last)",
            "\u001b[0;32m<ipython-input-13-1af3364c8e6a>\u001b[0m in \u001b[0;36m<module>\u001b[0;34m\u001b[0m\n\u001b[0;32m----> 1\u001b[0;31m \u001b[0mgoku\u001b[0m\u001b[0;34m.\u001b[0m\u001b[0mcolor_cabello\u001b[0m\u001b[0;34m(\u001b[0m\u001b[0;36m10000\u001b[0m\u001b[0;34m)\u001b[0m\u001b[0;34m\u001b[0m\u001b[0;34m\u001b[0m\u001b[0m\n\u001b[0m",
            "\u001b[0;32m<ipython-input-1-adc6ce75b563>\u001b[0m in \u001b[0;36mcolor_cabello\u001b[0;34m(self, fuerza_base)\u001b[0m\n\u001b[1;32m     19\u001b[0m        \u001b[0mprint\u001b[0m\u001b[0;34m(\u001b[0m\u001b[0;34m\"Alcanza nivel sayayin fase 4\"\u001b[0m\u001b[0;34m)\u001b[0m\u001b[0;34m\u001b[0m\u001b[0;34m\u001b[0m\u001b[0m\n\u001b[1;32m     20\u001b[0m        \u001b[0mself\u001b[0m\u001b[0;34m.\u001b[0m\u001b[0mcabello\u001b[0m\u001b[0;34m=\u001b[0m\u001b[0;34m\"negro\"\u001b[0m\u001b[0;34m\u001b[0m\u001b[0;34m\u001b[0m\u001b[0m\n\u001b[0;32m---> 21\u001b[0;31m     \u001b[0;32mif\u001b[0m \u001b[0mself\u001b[0m\u001b[0;34m.\u001b[0m\u001b[0mcola\u001b[0m\u001b[0;34m==\u001b[0m\u001b[0;32mFalse\u001b[0m\u001b[0;34m:\u001b[0m\u001b[0;34m\u001b[0m\u001b[0;34m\u001b[0m\u001b[0m\n\u001b[0m\u001b[1;32m     22\u001b[0m         \u001b[0mself\u001b[0m\u001b[0;34m.\u001b[0m\u001b[0mcola\u001b[0m\u001b[0;34m=\u001b[0m\u001b[0;32mTrue\u001b[0m\u001b[0;34m\u001b[0m\u001b[0;34m\u001b[0m\u001b[0m\n\u001b[1;32m     23\u001b[0m     \u001b[0;32melse\u001b[0m\u001b[0;34m:\u001b[0m\u001b[0;34m\u001b[0m\u001b[0;34m\u001b[0m\u001b[0m\n",
            "\u001b[0;31mAttributeError\u001b[0m: 'Sayayin' object has no attribute 'cola'"
          ]
        }
      ]
    },
    {
      "cell_type": "code",
      "source": [
        "milk=Humano(\"Milk\",\"negros\",\"negro\",100,50)\n",
        "milk.__dict__"
      ],
      "metadata": {
        "colab": {
          "base_uri": "https://localhost:8080/"
        },
        "id": "1AU_2MQUZUAP",
        "outputId": "25ecdf09-867e-4ce5-e437-3f1584548992"
      },
      "execution_count": 8,
      "outputs": [
        {
          "output_type": "execute_result",
          "data": {
            "text/plain": [
              "{'cabello': 'negros', 'ojos': 'negro', 'fuerza': 100, 'estatura': 50}"
            ]
          },
          "metadata": {},
          "execution_count": 8
        }
      ]
    },
    {
      "cell_type": "code",
      "source": [
        "gohan.trabajo(1)"
      ],
      "metadata": {
        "colab": {
          "base_uri": "https://localhost:8080/",
          "height": 165
        },
        "id": "rbtQxVqfZg5R",
        "outputId": "22a1f1cc-5e1c-41a9-d9d5-4b31d7421b18"
      },
      "execution_count": 16,
      "outputs": [
        {
          "output_type": "error",
          "ename": "NameError",
          "evalue": "ignored",
          "traceback": [
            "\u001b[0;31m---------------------------------------------------------------------------\u001b[0m",
            "\u001b[0;31mNameError\u001b[0m                                 Traceback (most recent call last)",
            "\u001b[0;32m<ipython-input-16-4e83356fa82e>\u001b[0m in \u001b[0;36m<module>\u001b[0;34m\u001b[0m\n\u001b[0;32m----> 1\u001b[0;31m \u001b[0mgohan\u001b[0m\u001b[0;34m.\u001b[0m\u001b[0mtrabajo\u001b[0m\u001b[0;34m(\u001b[0m\u001b[0;36m1\u001b[0m\u001b[0;34m)\u001b[0m\u001b[0;34m\u001b[0m\u001b[0;34m\u001b[0m\u001b[0m\n\u001b[0m",
            "\u001b[0;31mNameError\u001b[0m: name 'gohan' is not defined"
          ]
        }
      ]
    }
  ]
}