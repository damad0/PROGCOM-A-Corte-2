{
  "nbformat": 4,
  "nbformat_minor": 0,
  "metadata": {
    "colab": {
      "provenance": []
    },
    "kernelspec": {
      "name": "python3",
      "display_name": "Python 3"
    },
    "language_info": {
      "name": "python"
    }
  },
  "cells": [
    {
      "cell_type": "code",
      "execution_count": null,
      "metadata": {
        "id": "YGQKgYyBtiZ6"
      },
      "outputs": [],
      "source": [
        "class Fraccion:\n",
        "  def __init__(self,num,den):\n",
        "    self.num=num\n",
        "    self.den=den\n",
        "\n",
        "  def imprimir(self):\n",
        "    return f\"el numerador es: {self.num} el denominador es: {self.den} \"\n",
        "\n",
        "  def sumita(self,x):\n",
        "    num=self.num * x.den + self.den*x.num\n",
        "    den=self.den*x.den \n",
        "\n",
        "    r= Fraccion(num,den)\n",
        "    print(f\"la suma entre: {self.num}/ {self.den} y {x.num}/ {x.den} es: {r.num}/ {r.den}\")\n",
        "    return r\n",
        "\n",
        "  def resta(self,z):\n",
        "    num=self.num * z.den - self.den*z.num\n",
        "    den=self.den*z.den\n",
        "    d=Fraccion(num,den)\n",
        "    print(f\"la resta entre: {self.num}/ {self.den} y {z.num}/ {z.den} es: {d.num}/ {d.den}\")\n",
        "    return d\n",
        "  #pi es un tipo fraccion porque abajo esta el num y el den\n",
        "  def divi(self,pi):\n",
        "    if self.den*pi.num !=0:\n",
        "      num=self.num * pi.den \n",
        "      den=self.den*pi.num\n",
        "      m=Fraccion(num,den)\n",
        "      print(f\"la division :: {self.num}/ {self.den} y {pi.num}/ {pi.den} es: {m.num}/ {m.den}\")\n",
        "    \n",
        "    else:\n",
        "      print('eso no es de Dios')\n",
        "\n",
        "\n",
        "  def multiplicacion(self,x):\n",
        "    if self.den * x.num !=0:\n",
        "      num=self.num * x.num\n",
        "      den=self.den * x.den\n",
        "\n",
        "      t=Fraccion(num,den)\n",
        "      print(f\"la multiplicacion entre= {self.num}/ {self.den} y {x.num}/ {x.den} es: {t.num}/ {t.den}\")\n",
        "      return t\n",
        "    else:\n",
        "      print('Error')\n",
        "\n",
        "\n",
        "    \n",
        "\n",
        "    \n",
        "    \n",
        "\n"
      ]
    },
    {
      "cell_type": "code",
      "source": [
        "b= Fraccion(5,0)"
      ],
      "metadata": {
        "id": "tjOuqAGb1utf"
      },
      "execution_count": null,
      "outputs": []
    },
    {
      "cell_type": "code",
      "source": [
        "a= Fraccion(8,6)"
      ],
      "metadata": {
        "id": "DgiMJVUevIRT"
      },
      "execution_count": null,
      "outputs": []
    },
    {
      "cell_type": "code",
      "source": [
        "b.divi(a)"
      ],
      "metadata": {
        "colab": {
          "base_uri": "https://localhost:8080/"
        },
        "id": "2s-DaNu114n3",
        "outputId": "eb752881-cdf3-464e-c083-bbe804b766a5"
      },
      "execution_count": null,
      "outputs": [
        {
          "output_type": "stream",
          "name": "stdout",
          "text": [
            "eso no es de diosito\n"
          ]
        }
      ]
    },
    {
      "cell_type": "code",
      "source": [
        "b.multiplicacion(a)"
      ],
      "metadata": {
        "colab": {
          "base_uri": "https://localhost:8080/"
        },
        "id": "nLfm8idB8ien",
        "outputId": "0c1c5482-cc07-441d-8fcc-d6693bef7c66"
      },
      "execution_count": null,
      "outputs": [
        {
          "output_type": "stream",
          "name": "stdout",
          "text": [
            "Error\n"
          ]
        }
      ]
    },
    {
      "cell_type": "code",
      "source": [
        "c = Fraccion(2,0)\n",
        "c.divi(b)"
      ],
      "metadata": {
        "colab": {
          "base_uri": "https://localhost:8080/"
        },
        "id": "9UVBlwAO6e3h",
        "outputId": "30fac1b3-78c7-4c85-c285-52ba82def138"
      },
      "execution_count": null,
      "outputs": [
        {
          "output_type": "stream",
          "name": "stdout",
          "text": [
            "eso no es de diosito\n"
          ]
        }
      ]
    },
    {
      "cell_type": "code",
      "source": [],
      "metadata": {
        "id": "TgcwyZrC2t6-"
      },
      "execution_count": null,
      "outputs": []
    },
    {
      "cell_type": "markdown",
      "source": [
        "#Potencia"
      ],
      "metadata": {
        "id": "Hf29vPIL-K6I"
      }
    },
    {
      "cell_type": "code",
      "source": [
        "class Fraaccion():\n",
        "  nume=0\n",
        "  deno=1\n",
        "  exp=0\n",
        "\n",
        "  def __init__(self,nume=0,deno=1,exp=0):\n",
        "    self.nume=nume\n",
        "    self.deno=deno\n",
        "    self.exp=exp\n",
        "\n",
        "  def potencia(self):\n",
        "    if self.exp <0:\n",
        "      nume=self.deno**self.exp\n",
        "      deno=self.nume**self.exp\n",
        "\n",
        "    elif self.exp==0:\n",
        "      nume=1\n",
        "      deno=1\n",
        "\n",
        "    else:\n",
        "      nume=self.nume**self.exp\n",
        "      deno=self.deno**self.exp\n",
        "      \n",
        "    re=Fraaccion(nume,deno)\n",
        "    print(re.nume,\"/\",re.deno)\n",
        "    \n",
        "  \n",
        "  def imprime(self):\n",
        "    print(self.nume,\"/\",self.deno)\n",
        "  "
      ],
      "metadata": {
        "id": "RAn7sDf5-M3R"
      },
      "execution_count": null,
      "outputs": []
    },
    {
      "cell_type": "code",
      "source": [
        "a=Fraaccion(5,6,3)\n",
        "b=Fraaccion(1,2,-7)\n",
        "\n"
      ],
      "metadata": {
        "id": "SJhLP5Qh_Q9k"
      },
      "execution_count": null,
      "outputs": []
    },
    {
      "cell_type": "code",
      "source": [
        "b.potencia()"
      ],
      "metadata": {
        "colab": {
          "base_uri": "https://localhost:8080/"
        },
        "id": "oPjFdpTGELqh",
        "outputId": "cec72a0d-7ac9-44b7-9088-0745a05a3647"
      },
      "execution_count": null,
      "outputs": [
        {
          "output_type": "stream",
          "name": "stdout",
          "text": [
            "0.0078125 / 1.0\n"
          ]
        }
      ]
    }
  ]
}