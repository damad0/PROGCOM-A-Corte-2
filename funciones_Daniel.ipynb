{
  "nbformat": 4,
  "nbformat_minor": 0,
  "metadata": {
    "colab": {
      "provenance": []
    },
    "kernelspec": {
      "name": "python3",
      "display_name": "Python 3"
    },
    "language_info": {
      "name": "python"
    }
  },
  "cells": [
    {
      "cell_type": "markdown",
      "source": [
        "##Funciones"
      ],
      "metadata": {
        "id": "xTlPWxKQ0kpC"
      }
    },
    {
      "cell_type": "markdown",
      "source": [
        "def(nombre xualquiera)():\n",
        " lo que va dentro d la función"
      ],
      "metadata": {
        "id": "FvAVTyjP0vXS"
      }
    },
    {
      "cell_type": "markdown",
      "source": [
        "Tipos de funciones:\n",
        "1. sin parametros, sin retorno\n",
        "def manual():\n",
        " Print (\"Tome sus 5\")\n",
        "2. sin parametros, con retorno\n",
        "def nicolas():\n",
        " Print (\"Hola nicolas\")\n",
        "\n",
        " a=5\n",
        "\n",
        " return a\n",
        "\n",
        "3. sin parametros, con retorno\n",
        "def holitas(a,\"b\", x=false):\n",
        " int a\n",
        " b=string\n",
        " x=boolean\n",
        " Print (\"Hola nicolas\")\n",
        "\n",
        " a=5\n",
        "\n",
        "4 con parametros, con retrono\n",
        "def holitas(a,\"b\", X=dalse:\n",
        "int a \n",
        "b=string\n",
        "x=boolean\n",
        "print(\"hola nicolas\")\n",
        "a=5\n",
        "return a"
      ],
      "metadata": {
        "id": "z6VurdKE0_qR"
      }
    },
    {
      "cell_type": "code",
      "execution_count": null,
      "metadata": {
        "id": "rAmuGRcrz7wt"
      },
      "outputs": [],
      "source": [
        "def salude():\n",
        "  print(\"saludar\")\n",
        "  print(\"es de cracks\")\n",
        "  "
      ]
    },
    {
      "cell_type": "code",
      "source": [
        "salude()"
      ],
      "metadata": {
        "colab": {
          "base_uri": "https://localhost:8080/"
        },
        "id": "mVhxLpce4v5c",
        "outputId": "ad1d30ad-7bad-46a0-de43-8a9c6b1905a0"
      },
      "execution_count": null,
      "outputs": [
        {
          "output_type": "stream",
          "name": "stdout",
          "text": [
            "saludar\n",
            "es de cracks\n"
          ]
        }
      ]
    },
    {
      "cell_type": "code",
      "source": [
        "a=int(input(\"ingrese un número \"))\n",
        "b=int(input(\"ingrese un número \"))\n",
        "c=int(input(\"ingrese un número \"))\n",
        "\n",
        "if a !=b and a!=c and b!=c:\n",
        "  if a>b and a>c:\n",
        "    if b>c:\n",
        "      print(a,\"es el mayor\")\n",
        "      print(b,\"es el mayor medio\")\n",
        "      print(c,\"es el menor\"\n",
        "    else:\n",
        "      print(a,\"es el mayor\")\n",
        "      print(c,\"es el mayor medio\")\n",
        "      print(b,\"es el menor\"\n",
        "  elif b>a and b>c:\n",
        "    if a>c: \n",
        "      print(b,\"es el mayor\")\n",
        "      print(a,\"es el mayor medio\")\n",
        "      print(c,\"es el menor\")\n",
        "    else:\n",
        "      print(b,\"es el mayor\")\n",
        "      print(c,\"es el mayor medio\")\n",
        "      print(a,\"es el menor\")\n",
        "  if c>a and c>b:\n",
        "    if a>b:\n",
        "      print(c,\"es el mayor\")\n",
        "      print(a,\"es el mayor medio\")\n",
        "      print(b,\"es el menor\")\n",
        "    else:\n",
        "      print(c,\"es el mayor\")\n",
        "      print(b,\"es el mayor medio\")\n",
        "      print(a,\"es el menor\")\n",
        "else:\n",
        "  print(\"no se puede hacer el cálculo\")"
      ],
      "metadata": {
        "id": "wQWqvugc4xLj"
      },
      "execution_count": null,
      "outputs": []
    },
    {
      "cell_type": "code",
      "source": [
        "#funcion sin parametros con retorno\n",
        "def imprimir(a,b,c):\n",
        "  a=int(input(\"ingrese un número \"))\n",
        "  b=int(input(\"ingrese un número \"))\n",
        "  c=int(input(\"ingrese un número \"))"
      ],
      "metadata": {
        "id": "05FcqrE88GYk"
      },
      "execution_count": 5,
      "outputs": []
    },
    {
      "cell_type": "code",
      "source": [
        "def imprimir(a,b,c):\n",
        "      print(a,\"es el mayor\")\n",
        "      print(b,\"es el  medio\")\n",
        "      print(c,\"es el menor\")\n"
      ],
      "metadata": {
        "id": "nkBpb_rk_eLR"
      },
      "execution_count": 10,
      "outputs": []
    },
    {
      "cell_type": "code",
      "source": [
        "a=int(input(\"ingrese un número \"))\n",
        "b=int(input(\"ingrese un número \"))\n",
        "c=int(input(\"ingrese un número \"))\n",
        "\n",
        "if a !=b and a!=c and b != c:\n",
        "  if a>b and a>c:\n",
        "    if b>c:\n",
        "      imprimir(a,b,c)\n",
        "    else:\n",
        "      imprimir(a,c,b)\n",
        "  elif b>a and b>c:\n",
        "    if a>c: \n",
        "     imprimir(b,a,c)\n",
        "    else:\n",
        "      imprimir(b,c,a)\n",
        "  if c>a and c>b:\n",
        "    if a>b:\n",
        "      imprimir(c,a,b)\n",
        "    else:\n",
        "      imprimir(c,b,a)\n",
        "  else:\n",
        "    print(\"no se puede hacer el cálculo\")"
      ],
      "metadata": {
        "id": "VvPrvr2V9fS6",
        "colab": {
          "base_uri": "https://localhost:8080/"
        },
        "outputId": "b00eb570-4bb9-4053-a647-a0c3d91831ea"
      },
      "execution_count": 11,
      "outputs": [
        {
          "output_type": "stream",
          "name": "stdout",
          "text": [
            "ingrese un número 5\n",
            "ingrese un número 7\n",
            "ingrese un número 9\n",
            "9 es el mayor\n",
            "7 es el  medio\n",
            "5 es el menor\n"
          ]
        }
      ]
    },
    {
      "cell_type": "code",
      "source": [
        "def comparar(a,b,c):\n",
        "  if a !=b and a!=c and b != c:\n",
        "    if a>b and a>c:\n",
        "      if b>c:\n",
        "        imprimir(a,b,c)\n",
        "      else:\n",
        "        imprimir(a,c,b)\n",
        "  elif b>a and b>c:\n",
        "    if a>c: \n",
        "     imprimir(b,a,c)\n",
        "    else:\n",
        "      imprimir(b,c,a)\n",
        "  if c>a and c>b:\n",
        "    if a>b:\n",
        "      imprimir(c,a,b)\n",
        "    else:\n",
        "      imprimir(c,b,a)\n",
        "  else:\n",
        "    print(\"no se puede hacer el cálculo\")"
      ],
      "metadata": {
        "id": "LHq-zVUbAyc9"
      },
      "execution_count": 19,
      "outputs": []
    },
    {
      "cell_type": "code",
      "source": [
        "a=int(input(\"ingrese un número \"))\n",
        "b=int(input(\"ingrese un número \"))\n",
        "c=int(input(\"ingrese un número \"))\n",
        "comparar(c,b,a)\n"
      ],
      "metadata": {
        "id": "S_aF8Zx7B8OZ"
      },
      "execution_count": null,
      "outputs": []
    },
    {
      "cell_type": "code",
      "source": [
        "def cosa(letra):\n",
        "  if letra in (\"a,e,i,o,u,A,E,I,O,U\"):\n",
        "    return\"vocal\"\n",
        "  elif letra in (\"y\",\"Y\"):\n",
        "    return \"consonante\"\n",
        "  else:\n",
        "    return \"consonante\"\n",
        "l= input(\"escriba una letra cualquiera:\")\n",
        "print(cosa(l))"
      ],
      "metadata": {
        "colab": {
          "base_uri": "https://localhost:8080/"
        },
        "id": "9vMgDTwzHmKK",
        "outputId": "c9eece33-8116-4b9d-eea7-094697731682"
      },
      "execution_count": 49,
      "outputs": [
        {
          "output_type": "stream",
          "name": "stdout",
          "text": [
            "escriba una letra cualquiera:c\n",
            "consonante\n"
          ]
        }
      ]
    }
  ]
}