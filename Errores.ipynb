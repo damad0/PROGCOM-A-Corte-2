{
  "nbformat": 4,
  "nbformat_minor": 0,
  "metadata": {
    "colab": {
      "provenance": []
    },
    "kernelspec": {
      "name": "python3",
      "display_name": "Python 3"
    },
    "language_info": {
      "name": "python"
    }
  },
  "cells": [
    {
      "cell_type": "markdown",
      "source": [
        "1.No permite graficar sin libreria las cuales hayan sido importada.\n",
        "2.Google colab genera errores cuando el contenido es compartido ya que puede ser modificado al mismo tiempo por lo que alguno podría alterar el programa sin ser registrado.\n",
        "3.Colab genera error cuando estamos realizando una ejecución muy prolongada y muy potente, el entorno se desconecte.\n",
        "4.al tener contenido compartido puede ser modificado al mismo tiempo, esto es que cualquiera puede alterar el programa.\n",
        "5.para ajustar los limetes de la disponibilidad del hardware se necesita flexibilidad.\n",
        "6.no se puede conectar a proxies remotos.\n",
        "7.No se puede ejecutar sin conexión a internet.\n",
        "8.Usar un escritorio remoto o SSH\n",
        "9.Colab limita la funcionalidad de subir y descargar archivos locales del pc y de google drive.\n",
        "10.El tiempo máximo que podemos estar conectados a una misma máquina desde un cuaderno es de 12 horas.\n",
        "11.Es indispensable tener una GPU de google para programar.\n",
        "12.no tiene cuota de almasamiento ilimitada.\n",
        "13.no se puede sacar contraseñas de manera iegal\n",
        "14.No se pueden poner entradas por caja de texto (Entry) solo con input.\n",
        "15.No poder identificar o llamar en algunos casos algún tipo de librería importada.\n",
        "16.No se puede Descargar torrents o compartir archivos de punto a punto.\n",
        "17.Las operaciones de Google Drive pueden agotar el tiempo de espera cuando el número de archivos o subcarpetas de una carpeta se vuelve demasiado grande, sin superar el límite necesariamente.\n",
        "18.al guardar una información nueva puede genera un error y no permite llamar a una variable, entonces se debe desconectar el entorno de ejecución.\n",
        "19.No se puede Eludir las restricciones de acceso o de uso de recursos.\n",
        "20.en el uso de intercatividad no se pueden alojar contenido multimedia, archivos u otros servicios web que no esten relacionados con este."
      ],
      "metadata": {
        "id": "z5mCQ9oHngOt"
      }
    },
    {
      "cell_type": "code",
      "execution_count": null,
      "metadata": {
        "id": "W_BnxsxinOS7"
      },
      "outputs": [],
      "source": []
    }
  ]
}