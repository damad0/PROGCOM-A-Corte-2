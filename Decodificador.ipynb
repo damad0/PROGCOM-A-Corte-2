{
  "nbformat": 4,
  "nbformat_minor": 0,
  "metadata": {
    "colab": {
      "provenance": []
    },
    "kernelspec": {
      "name": "python3",
      "display_name": "Python 3"
    },
    "language_info": {
      "name": "python"
    }
  },
  "cells": [
    {
      "cell_type": "code",
      "execution_count": 4,
      "metadata": {
        "colab": {
          "base_uri": "https://localhost:8080/"
        },
        "id": "kU1mQyaIWAxv",
        "outputId": "2cf344c0-134e-4389-9fab-0056e0996a37"
      },
      "outputs": [
        {
          "output_type": "stream",
          "name": "stdout",
          "text": [
            "Frasebiri\n",
            "['c', 'a', 's', 'a']\n",
            "casa\n",
            "casa\n"
          ]
        }
      ],
      "source": [
        "a=input(\"Frase\")\n",
        "vocal=[\"a\",\"e\",\"i\",\"o\",\"u\"]\n",
        "vocalt=[\"á\",\"é\",\"í\",\"ó\",\"ú\"]\n",
        "consonante=[\"b\",\"c\",\"d\",\"f\",\"g\",\"h\",\"j\",\"k\",\"l\",\"m\",\"n\",\"ñ\",\"p\",\"q\",\"r\",\"s\",\"t\",\"v\",\"w\",\"x\",\"y\",\"z\"]\n",
        "a=a.lower()\n",
        "r=[]\n",
        "for i in range(len(a)):\n",
        "  if a[i] in vocal:\n",
        "    x=0\n",
        "    x=vocal.index(a[i])\n",
        "    x-=2\n",
        "    if x==5:\n",
        "      r.append(\"a\")\n",
        "    elif x==6:\n",
        "      r.append(\"e\")\n",
        "    else:\n",
        "      r.append(vocal[x])\n",
        " \n",
        "  elif a[i] in vocalt:\n",
        "    x=0\n",
        "    x=vocalt.index(a[i])\n",
        "    x-=2\n",
        "    if x==5:\n",
        "      r.append(\"á\")\n",
        "    elif x==6:\n",
        "      r.append(\"é\")\n",
        "    else:\n",
        "      r.append(vocalt[x])\n",
        "\n",
        "  elif a[i] in consonante:\n",
        "    x=0\n",
        "    x=consonante.index(a[i])\n",
        "    x+=1\n",
        "    r.append(consonante[x])\n",
        "\n",
        "  else:\n",
        "    r.append(a[i])\n",
        "\n",
        "frase=\"\".join(r)\n",
        "frase2=frase.split()\n",
        "frase2=frase2[::-1]\n",
        "frase2=\"\".join(frase2)\n",
        "print(r)\n",
        "print(frase)\n",
        "print(frase2)"
      ]
    }
  ]
}